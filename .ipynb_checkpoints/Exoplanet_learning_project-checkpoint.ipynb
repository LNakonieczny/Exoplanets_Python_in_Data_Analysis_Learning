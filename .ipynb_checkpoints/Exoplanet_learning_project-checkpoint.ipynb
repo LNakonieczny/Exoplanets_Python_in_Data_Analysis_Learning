{
 "cells": [
  {
   "cell_type": "code",
   "execution_count": 1,
   "id": "3a7e1e11-941a-4b35-a1b6-f24a89f12187",
   "metadata": {
    "jupyter": {
     "source_hidden": true
    },
    "tags": []
   },
   "outputs": [],
   "source": [
    "# %%html\n",
    "# <style>\n",
    "#     /* Jupyter */\n",
    "#     .rendered_html table,\n",
    "#     /* Jupyter Lab*/\n",
    "#     div[data-mime-type=\"text-markdown\"] table {\n",
    "#         margin-left: 0\n",
    "#     }\n",
    "# </style>"
   ]
  },
  {
   "cell_type": "code",
   "execution_count": 2,
   "id": "8af65bc4-3ee7-45b4-93d1-c8ecbe78c942",
   "metadata": {},
   "outputs": [],
   "source": [
    "# import libraries for computations\n",
    "import numpy as np\n",
    "import pandas as pd\n",
    "import scipy.stats as stats"
   ]
  },
  {
   "cell_type": "code",
   "execution_count": 3,
   "id": "35ff2248-f8b6-4146-8a4c-c27cfc5115d8",
   "metadata": {},
   "outputs": [
    {
     "data": {
      "text/html": [
       "        <script type=\"text/javascript\">\n",
       "        window.PlotlyConfig = {MathJaxConfig: 'local'};\n",
       "        if (window.MathJax) {MathJax.Hub.Config({SVG: {font: \"STIX-Web\"}});}\n",
       "        if (typeof require !== 'undefined') {\n",
       "        require.undef(\"plotly\");\n",
       "        requirejs.config({\n",
       "            paths: {\n",
       "                'plotly': ['https://cdn.plot.ly/plotly-2.9.0.min']\n",
       "            }\n",
       "        });\n",
       "        require(['plotly'], function(Plotly) {\n",
       "            window._Plotly = Plotly;\n",
       "        });\n",
       "        }\n",
       "        </script>\n",
       "        "
      ]
     },
     "metadata": {},
     "output_type": "display_data"
    },
    {
     "data": {
      "text/html": [
       "        <script type=\"text/javascript\">\n",
       "        window.PlotlyConfig = {MathJaxConfig: 'local'};\n",
       "        if (window.MathJax) {MathJax.Hub.Config({SVG: {font: \"STIX-Web\"}});}\n",
       "        if (typeof require !== 'undefined') {\n",
       "        require.undef(\"plotly\");\n",
       "        requirejs.config({\n",
       "            paths: {\n",
       "                'plotly': ['https://cdn.plot.ly/plotly-2.9.0.min']\n",
       "            }\n",
       "        });\n",
       "        require(['plotly'], function(Plotly) {\n",
       "            window._Plotly = Plotly;\n",
       "        });\n",
       "        }\n",
       "        </script>\n",
       "        "
      ]
     },
     "metadata": {},
     "output_type": "display_data"
    }
   ],
   "source": [
    "# import libraries for visualizations\n",
    "import matplotlib.pyplot as plt\n",
    "\n",
    "from matplotlib.ticker import PercentFormatter\n",
    "\n",
    "%matplotlib inline\n",
    "\n",
    "import seaborn as sns\n",
    "\n",
    "from plotly.offline import download_plotlyjs, init_notebook_mode, plot, iplot\n",
    "\n",
    "import cufflinks as cf\n",
    "\n",
    "import plotly.graph_objects as go\n",
    "# For offline use\n",
    "cf.go_offline()\n",
    "\n",
    "import chart_studio.plotly as py\n",
    "\n",
    "# For Notebooks\n",
    "init_notebook_mode(connected=True)"
   ]
  },
  {
   "cell_type": "code",
   "execution_count": 4,
   "id": "333eca55-6845-4c72-b1c5-a19811a7f759",
   "metadata": {},
   "outputs": [],
   "source": [
    "#from IPython.display import Markdown as md"
   ]
  },
  {
   "cell_type": "code",
   "execution_count": 5,
   "id": "22928746-d4a1-4424-97bb-db86ddc15088",
   "metadata": {},
   "outputs": [],
   "source": [
    "class SeabornFig2Grid():\n",
    "    '''\n",
    "    Code assimilated from: https://stackoverflow.com/questions/35042255/how-to-plot-multiple-seaborn-jointplot-in-subplot\n",
    "    '''\n",
    "    \n",
    "    def __init__(self, seaborngrid, fig,  subplot_spec):\n",
    "        self.fig = fig\n",
    "        self.sg = seaborngrid\n",
    "        self.subplot = subplot_spec\n",
    "        if isinstance(self.sg, sns.axisgrid.FacetGrid) or \\\n",
    "        isinstance(self.sg, sns.axisgrid.PairGrid):\n",
    "            self._movegrid()\n",
    "        elif isinstance(self.sg, sns.axisgrid.JointGrid):\n",
    "            self._movejointgrid()\n",
    "        self._finalize()\n",
    "\n",
    "    def _movegrid(self):\n",
    "        \"\"\" Move PairGrid or Facetgrid \"\"\"\n",
    "        self._resize()\n",
    "        n = self.sg.axes.shape[0]\n",
    "        m = self.sg.axes.shape[1]\n",
    "        self.subgrid = gridspec.GridSpecFromSubplotSpec(n,m, subplot_spec=self.subplot)\n",
    "        for i in range(n):\n",
    "            for j in range(m):\n",
    "                self._moveaxes(self.sg.axes[i,j], self.subgrid[i,j])\n",
    "\n",
    "    def _movejointgrid(self):\n",
    "        \"\"\" Move Jointgrid \"\"\"\n",
    "        h= self.sg.ax_joint.get_position().height\n",
    "        h2= self.sg.ax_marg_x.get_position().height\n",
    "        r = int(np.round(h/h2))\n",
    "        self._resize()\n",
    "        self.subgrid = gridspec.GridSpecFromSubplotSpec(r+1,r+1, subplot_spec=self.subplot)\n",
    "\n",
    "        self._moveaxes(self.sg.ax_joint, self.subgrid[1:, :-1])\n",
    "        self._moveaxes(self.sg.ax_marg_x, self.subgrid[0, :-1])\n",
    "        self._moveaxes(self.sg.ax_marg_y, self.subgrid[1:, -1])\n",
    "\n",
    "    def _moveaxes(self, ax, gs):\n",
    "        #https://stackoverflow.com/a/46906599/4124317\n",
    "        ax.remove()\n",
    "        ax.figure=self.fig\n",
    "        self.fig.axes.append(ax)\n",
    "        self.fig.add_axes(ax)\n",
    "        ax._subplotspec = gs\n",
    "        ax.set_position(gs.get_position(self.fig))\n",
    "        ax.set_subplotspec(gs)\n",
    "\n",
    "    def _finalize(self):\n",
    "        plt.close(self.sg.fig)\n",
    "        self.fig.canvas.mpl_connect(\"resize_event\", self._resize)\n",
    "        self.fig.canvas.draw()\n",
    "\n",
    "    def _resize(self, evt=None):\n",
    "        self.sg.fig.set_size_inches(self.fig.get_size_inches())"
   ]
  },
  {
   "cell_type": "code",
   "execution_count": 6,
   "id": "6ab9800e-c43e-439e-9463-46a447c67ba1",
   "metadata": {},
   "outputs": [],
   "source": [
    "def _plot_pareto_by(df_, group_by, column, plot_title):\n",
    "    '''\n",
    "    Code assimilated from: https://stackoverflow.com/questions/53577630/how-to-make-pareto-chart-in-python\n",
    "    '''\n",
    "    df = df_.groupby(group_by)[column].count().reset_index()\n",
    "    df = df.sort_values(by=column,ascending=False)\n",
    "\n",
    "    df[\"cumpercentage\"] = df[column].cumsum()/df[column].sum()*100\n",
    "\n",
    "\n",
    "    fig, ax = plt.subplots(figsize=(10,6))\n",
    "    ax.bar(df[group_by], df[column], color=\"C0\")\n",
    "    ax2 = ax.twinx()\n",
    "    ax2.plot(df[group_by], df[\"cumpercentage\"], color=\"#b5001ccc\", marker=\"D\", ms=7)\n",
    "    ax2.yaxis.set_major_formatter(PercentFormatter())\n",
    "\n",
    "    ax.tick_params(axis=\"y\", colors=\"#000000cc\")\n",
    "    ax2.tick_params(axis=\"y\", colors=\"#b5001ccc\")\n",
    "\n",
    "    \n",
    "    for tick in ax.get_xticklabels():\n",
    "        tick.set_rotation(45)\n",
    "        \n",
    "    plt.grid(True)\n",
    "    plt.title( plot_title, loc='left')\n",
    "    plt.show()"
   ]
  },
  {
   "cell_type": "code",
   "execution_count": 7,
   "id": "d24aaa68-478b-47cd-9fce-a1c6ca60ae26",
   "metadata": {},
   "outputs": [],
   "source": [
    "# varia\n",
    "# Set colormap equal to seaborns light green color palette\n",
    "cm = sns.light_palette(\"green\", as_cmap=True)"
   ]
  },
  {
   "cell_type": "code",
   "execution_count": 8,
   "id": "b79456d5-49c5-4d69-bce2-c9d73514fd87",
   "metadata": {},
   "outputs": [],
   "source": [
    "# def custom_boxplot(df_, columns, plot_title, plot_dim):\n",
    "    \n",
    "#     fig, axes = plt.subplots(nrows = plot_dim[0], ncols = plot_dim[1] , figsize=(10,6))\n",
    "\n",
    "#     axes[0] = sns.boxplot(data = df_[0], x = columns[0], y = columns[1], color=\"C0\", ax = axes[0])\n",
    "#     axes[1] = sns.boxplot(data = df_[1], x = columns[0], y = columns[1], color=\"C0\", ax= axes[1])\n",
    "#     axes[0].grid(True)\n",
    "#     axes[1].grid(True)\n",
    "#     axes[0].set_title( plot_title[0], loc='left')\n",
    "#     axes[1].set_title( plot_title[1], loc='left')\n",
    "    \n",
    "    \n",
    "#     plt.tight_layout()\n",
    "#     plt.show()"
   ]
  },
  {
   "cell_type": "code",
   "execution_count": 9,
   "id": "78772970-bb69-478b-a610-45273682a4cb",
   "metadata": {},
   "outputs": [],
   "source": [
    "# data comes from (somewhat filtered down) \n",
    "# NASA Exoplanet Archive : https://exoplanetarchive.ipac.caltech.edu/docs/data.html \n",
    "# table: Planetary Systems Composite Data \n",
    "# TODO: check API for direct download from webpage\n",
    "# read csv into DataFrame\n",
    "df_Exoplanet = pd.read_csv('PSCompPars_2022.05.30_01.49.21.csv', comment = '#')"
   ]
  },
  {
   "cell_type": "code",
   "execution_count": 10,
   "id": "40e7a5b6-9d07-4958-b904-c595611e9e19",
   "metadata": {},
   "outputs": [
    {
     "name": "stdout",
     "output_type": "stream",
     "text": [
      "<class 'pandas.core.frame.DataFrame'>\n",
      "RangeIndex: 5035 entries, 0 to 5034\n",
      "Data columns (total 18 columns):\n",
      " #   Column           Non-Null Count  Dtype  \n",
      "---  ------           --------------  -----  \n",
      " 0   pl_name          5035 non-null   object \n",
      " 1   hostname         5035 non-null   object \n",
      " 2   sy_snum          5035 non-null   int64  \n",
      " 3   sy_pnum          5035 non-null   int64  \n",
      " 4   discoverymethod  5035 non-null   object \n",
      " 5   disc_year        5035 non-null   int64  \n",
      " 6   pl_orbper        4867 non-null   float64\n",
      " 7   pl_rade          5021 non-null   float64\n",
      " 8   pl_bmasse        5012 non-null   float64\n",
      " 9   pl_bmassprov     5035 non-null   object \n",
      " 10  pl_orbeccen      4393 non-null   float64\n",
      " 11  st_spectype      1764 non-null   object \n",
      " 12  st_teff          4895 non-null   float64\n",
      " 13  st_rad           4876 non-null   float64\n",
      " 14  st_mass          5031 non-null   float64\n",
      " 15  st_met           4719 non-null   float64\n",
      " 16  st_metratio      4691 non-null   object \n",
      " 17  sy_dist          5020 non-null   float64\n",
      "dtypes: float64(9), int64(3), object(6)\n",
      "memory usage: 708.2+ KB\n"
     ]
    }
   ],
   "source": [
    "df_Exoplanet.info()"
   ]
  },
  {
   "cell_type": "markdown",
   "id": "b2a8f6bf-d830-4611-bcfd-1b80550868fa",
   "metadata": {},
   "source": [
    "# Simple preliminary data exploration before celaning"
   ]
  },
  {
   "cell_type": "code",
   "execution_count": 11,
   "id": "0e6dd3e1-6a4c-4405-b289-93923cf8b784",
   "metadata": {},
   "outputs": [],
   "source": [
    "#df_Exoplanet.describe()"
   ]
  },
  {
   "cell_type": "code",
   "execution_count": 12,
   "id": "d7bc9b4a-158b-4dd4-ab19-a83a61d8ed1d",
   "metadata": {},
   "outputs": [],
   "source": [
    "total_number_of_exoplanet = df_Exoplanet.count()[0]\n",
    "avg_number_of_exoplanets_in_system = df_Exoplanet['sy_pnum'].mean()\n",
    "median_numbe_of_exoplanets_in_system = df_Exoplanet['sy_pnum'].median()\n",
    "\n",
    "\n",
    "closest_exoplanet = df_Exoplanet['sy_dist'].min()\n",
    "median_exoplanet_distance = df_Exoplanet['sy_dist'].median()\n",
    "farthest_exoplanet =  df_Exoplanet['sy_dist'].max()\n",
    "\n",
    "smallest_exoplanet = df_Exoplanet['pl_rade'].min()\n",
    "largest_exoplanet = df_Exoplanet['pl_rade'].max()"
   ]
  },
  {
   "cell_type": "code",
   "execution_count": 13,
   "id": "14538c0f-0a7c-41a6-9388-8611ed936d12",
   "metadata": {},
   "outputs": [],
   "source": [
    "summary_dict = {'Values' : [total_number_of_exoplanet, \n",
    "                            avg_number_of_exoplanets_in_system,\n",
    "                            median_numbe_of_exoplanets_in_system,\n",
    "                            closest_exoplanet,\n",
    "                            median_exoplanet_distance,\n",
    "                            farthest_exoplanet,\n",
    "                            smallest_exoplanet,\n",
    "                            largest_exoplanet ]}\n",
    "index_summary = ['Total number of confirmed Exoplanets', \n",
    "                 'Average number of exoplanets in the system',\n",
    "                 'Median for number of exoplanets in the system',\n",
    "                 'Closest exoplanet [pc]', \n",
    "                 'Median exoplanet distance from a Sun [pc]',\n",
    "                 'The most distant exoplanet [pc]', \n",
    "                 'Smallest exoplanet detected [Earth radii]', \n",
    "                 'Largest exoplanet detected [Earth radii]']"
   ]
  },
  {
   "cell_type": "code",
   "execution_count": 14,
   "id": "66214d0a-7dc0-40c9-af0a-54a80619edad",
   "metadata": {},
   "outputs": [],
   "source": [
    "# creating summary DataFrame\n",
    "df_summary = pd.DataFrame(summary_dict)\n",
    "df_summary.index = index_summary"
   ]
  },
  {
   "cell_type": "code",
   "execution_count": 15,
   "id": "2924c997-aba6-48cf-b70d-1e78c456af5b",
   "metadata": {},
   "outputs": [
    {
     "data": {
      "text/html": [
       "<style type=\"text/css\">\n",
       "</style>\n",
       "<table id=\"T_63641_\">\n",
       "  <thead>\n",
       "    <tr>\n",
       "      <th class=\"blank level0\" >&nbsp;</th>\n",
       "      <th class=\"col_heading level0 col0\" >Values</th>\n",
       "    </tr>\n",
       "  </thead>\n",
       "  <tbody>\n",
       "    <tr>\n",
       "      <th id=\"T_63641_level0_row0\" class=\"row_heading level0 row0\" >Total number of confirmed Exoplanets</th>\n",
       "      <td id=\"T_63641_row0_col0\" class=\"data row0 col0\" >5035.00</td>\n",
       "    </tr>\n",
       "    <tr>\n",
       "      <th id=\"T_63641_level0_row1\" class=\"row_heading level0 row1\" >Average number of exoplanets in the system</th>\n",
       "      <td id=\"T_63641_row1_col0\" class=\"data row1 col0\" >1.76</td>\n",
       "    </tr>\n",
       "    <tr>\n",
       "      <th id=\"T_63641_level0_row2\" class=\"row_heading level0 row2\" >Median for number of exoplanets in the system</th>\n",
       "      <td id=\"T_63641_row2_col0\" class=\"data row2 col0\" >1.00</td>\n",
       "    </tr>\n",
       "    <tr>\n",
       "      <th id=\"T_63641_level0_row3\" class=\"row_heading level0 row3\" >Closest exoplanet [pc]</th>\n",
       "      <td id=\"T_63641_row3_col0\" class=\"data row3 col0\" >1.30</td>\n",
       "    </tr>\n",
       "    <tr>\n",
       "      <th id=\"T_63641_level0_row4\" class=\"row_heading level0 row4\" >Median exoplanet distance from a Sun [pc]</th>\n",
       "      <td id=\"T_63641_row4_col0\" class=\"data row4 col0\" >443.07</td>\n",
       "    </tr>\n",
       "    <tr>\n",
       "      <th id=\"T_63641_level0_row5\" class=\"row_heading level0 row5\" >The most distant exoplanet [pc]</th>\n",
       "      <td id=\"T_63641_row5_col0\" class=\"data row5 col0\" >8500.00</td>\n",
       "    </tr>\n",
       "    <tr>\n",
       "      <th id=\"T_63641_level0_row6\" class=\"row_heading level0 row6\" >Smallest exoplanet detected [Earth radii]</th>\n",
       "      <td id=\"T_63641_row6_col0\" class=\"data row6 col0\" >0.30</td>\n",
       "    </tr>\n",
       "    <tr>\n",
       "      <th id=\"T_63641_level0_row7\" class=\"row_heading level0 row7\" >Largest exoplanet detected [Earth radii]</th>\n",
       "      <td id=\"T_63641_row7_col0\" class=\"data row7 col0\" >77.34</td>\n",
       "    </tr>\n",
       "  </tbody>\n",
       "</table>\n"
      ],
      "text/plain": [
       "<pandas.io.formats.style.Styler at 0x21716e413d0>"
      ]
     },
     "execution_count": 15,
     "metadata": {},
     "output_type": "execute_result"
    }
   ],
   "source": [
    "df_summary.style.format({\"Values\": '{:.2f}'})"
   ]
  },
  {
   "cell_type": "code",
   "execution_count": 16,
   "id": "1d549e47-e5aa-4380-8379-c6a4172044f4",
   "metadata": {
    "jupyter": {
     "source_hidden": true
    },
    "tags": []
   },
   "outputs": [],
   "source": [
    "# md(f\"<font size = '5'> Total number of confirmed Exoplanets: {total_number_of_exoplanet} </font>\")\n",
    "# md(f\"<font size = '5'> Average number of exoplanets in system: {avg_number_of_exoplanets_in_system} </font>\")\n",
    "# md(f\"<font size = '5'> Closest exoplanet: {closest_exoplanet} [pc] </font>\")\n",
    "# md(f\"<font size = '5'> Most distant exoplanet: {farthest_exoplanet} [pc] </font>\")\n",
    "# md(f\"<font size = '5'> Smallest exoplanet detected: {smallest_exoplanet} [Earth radii] </font>\")\n",
    "# md(f\"<font size = '5'> Largest exoplanet detected: {largest_exoplanet} [Earth radii] </font>\")"
   ]
  },
  {
   "cell_type": "code",
   "execution_count": 17,
   "id": "1d265664-f318-404a-b117-15aab81b8943",
   "metadata": {},
   "outputs": [
    {
     "data": {
      "text/html": [
       "<div>\n",
       "<style scoped>\n",
       "    .dataframe tbody tr th:only-of-type {\n",
       "        vertical-align: middle;\n",
       "    }\n",
       "\n",
       "    .dataframe tbody tr th {\n",
       "        vertical-align: top;\n",
       "    }\n",
       "\n",
       "    .dataframe thead th {\n",
       "        text-align: right;\n",
       "    }\n",
       "</style>\n",
       "<table border=\"1\" class=\"dataframe\">\n",
       "  <thead>\n",
       "    <tr style=\"text-align: right;\">\n",
       "      <th></th>\n",
       "      <th>pl_name</th>\n",
       "      <th>hostname</th>\n",
       "      <th>sy_snum</th>\n",
       "      <th>sy_pnum</th>\n",
       "      <th>discoverymethod</th>\n",
       "      <th>disc_year</th>\n",
       "      <th>pl_orbper</th>\n",
       "      <th>pl_rade</th>\n",
       "      <th>pl_bmasse</th>\n",
       "      <th>pl_bmassprov</th>\n",
       "      <th>pl_orbeccen</th>\n",
       "      <th>st_spectype</th>\n",
       "      <th>st_teff</th>\n",
       "      <th>st_rad</th>\n",
       "      <th>st_mass</th>\n",
       "      <th>st_met</th>\n",
       "      <th>st_metratio</th>\n",
       "      <th>sy_dist</th>\n",
       "    </tr>\n",
       "  </thead>\n",
       "  <tbody>\n",
       "    <tr>\n",
       "      <th>0</th>\n",
       "      <td>11 Com b</td>\n",
       "      <td>11 Com</td>\n",
       "      <td>2</td>\n",
       "      <td>1</td>\n",
       "      <td>Radial Velocity</td>\n",
       "      <td>2007</td>\n",
       "      <td>326.03000</td>\n",
       "      <td>12.1</td>\n",
       "      <td>6165.6000</td>\n",
       "      <td>Msini</td>\n",
       "      <td>0.231</td>\n",
       "      <td>G8 III</td>\n",
       "      <td>4742.0</td>\n",
       "      <td>19.00</td>\n",
       "      <td>2.70</td>\n",
       "      <td>-0.35</td>\n",
       "      <td>[Fe/H]</td>\n",
       "      <td>93.1846</td>\n",
       "    </tr>\n",
       "    <tr>\n",
       "      <th>1</th>\n",
       "      <td>11 UMi b</td>\n",
       "      <td>11 UMi</td>\n",
       "      <td>1</td>\n",
       "      <td>1</td>\n",
       "      <td>Radial Velocity</td>\n",
       "      <td>2009</td>\n",
       "      <td>516.21997</td>\n",
       "      <td>12.3</td>\n",
       "      <td>4684.8142</td>\n",
       "      <td>Msini</td>\n",
       "      <td>0.080</td>\n",
       "      <td>K4 III</td>\n",
       "      <td>4213.0</td>\n",
       "      <td>29.79</td>\n",
       "      <td>2.78</td>\n",
       "      <td>-0.02</td>\n",
       "      <td>[Fe/H]</td>\n",
       "      <td>125.3210</td>\n",
       "    </tr>\n",
       "  </tbody>\n",
       "</table>\n",
       "</div>"
      ],
      "text/plain": [
       "    pl_name hostname  sy_snum  sy_pnum  discoverymethod  disc_year  pl_orbper  \\\n",
       "0  11 Com b   11 Com        2        1  Radial Velocity       2007  326.03000   \n",
       "1  11 UMi b   11 UMi        1        1  Radial Velocity       2009  516.21997   \n",
       "\n",
       "   pl_rade  pl_bmasse pl_bmassprov  pl_orbeccen st_spectype  st_teff  st_rad  \\\n",
       "0     12.1  6165.6000        Msini        0.231      G8 III   4742.0   19.00   \n",
       "1     12.3  4684.8142        Msini        0.080      K4 III   4213.0   29.79   \n",
       "\n",
       "   st_mass  st_met st_metratio   sy_dist  \n",
       "0     2.70   -0.35      [Fe/H]   93.1846  \n",
       "1     2.78   -0.02      [Fe/H]  125.3210  "
      ]
     },
     "execution_count": 17,
     "metadata": {},
     "output_type": "execute_result"
    }
   ],
   "source": [
    "# quick look at dataframe\n",
    "df_Exoplanet.head(2)"
   ]
  },
  {
   "cell_type": "markdown",
   "id": "6d7ed0e5-aea8-4458-9fa3-a40fc5894e29",
   "metadata": {},
   "source": [
    "# Adding new columns to dataframe "
   ]
  },
  {
   "cell_type": "code",
   "execution_count": 18,
   "id": "7459a323-5ac6-464c-a234-fc1285f7479e",
   "metadata": {},
   "outputs": [],
   "source": [
    "# transforming discovery years to decades\n",
    "def calc_decade(x):\n",
    "    if x < 1990:\n",
    "        decade = \"1980s\"\n",
    "    elif (x >= 90) and (x < 2000):\n",
    "        decade = \"1990s\"\n",
    "    elif (x >= 2000) and (x < 2010):\n",
    "        decade = \"2000s\"\n",
    "    elif (x >= 2010) and (x < 2020):\n",
    "        decade = \"2010s\"\n",
    "    else: decade = \"2020s\"\n",
    "    \n",
    "    return decade"
   ]
  },
  {
   "cell_type": "code",
   "execution_count": 19,
   "id": "c2feadfe-b6dc-4529-8628-ad55781ef270",
   "metadata": {},
   "outputs": [],
   "source": [
    "# classifying exoplanet by their radii\n",
    "def simple_planet_class(x):\n",
    "    '''\n",
    "    Clasification after: http://dx.doi.org/10.3847/1538-4357/aab205\n",
    "    Look also: https://tools.emac.gsfc.nasa.gov/EBC/#input_form\n",
    "    '''\n",
    "    # if x < 0.5:\n",
    "    #     return 'Small Rocky'\n",
    "    # elif (x >= 0.5) and (x <= 1.0):\n",
    "    #     return 'Rocky'\n",
    "    # elif (x > 1.0) and (x < 1.75):\n",
    "    #     return 'Super-Earths'\n",
    "    # elif (x >= 1.75) and (x < 3.5):\n",
    "    #     return 'Sub-Neptunes'\n",
    "    # elif (x >= 3.5) and (x < 6.0):\n",
    "    #     return 'Sub-Jovians'\n",
    "    # else:\n",
    "    #     return 'Jovians' \n",
    "    \n",
    "    if x <= 1.0:\n",
    "        return 'Terrestrial'\n",
    "    elif (x > 1.0) and (x < 1.75):\n",
    "        return 'Super-Earth'\n",
    "    elif (x >= 1.75) and (x < 3.5):\n",
    "        return 'Sub-Neptune'\n",
    "    elif (x >= 3.5) and (x < 6.0):\n",
    "        return 'Sub-Jovian'\n",
    "    else:\n",
    "        return 'Jovian' "
   ]
  },
  {
   "cell_type": "code",
   "execution_count": 20,
   "id": "c5e59582-e8aa-4f29-b51f-042d0644e067",
   "metadata": {},
   "outputs": [],
   "source": [
    "# calculate compactness of host star\n",
    "# function work on two columns\n",
    "def calc_compactness(st_vec):\n",
    "    '''\n",
    "    Star compactness factor M/R in units of Sol_mass/Sol_radii\n",
    "    st_vec[0] = st_mass\n",
    "    st_vec[1] = st_radii\n",
    "    '''\n",
    "    \n",
    "    return st_vec[0]/st_vec[1]"
   ]
  },
  {
   "cell_type": "code",
   "execution_count": 21,
   "id": "5974ec5b-1850-4b50-8324-7d51304973a4",
   "metadata": {},
   "outputs": [],
   "source": [
    "def describe_planet(x):\n",
    "    # x - pandas series\n",
    "    if x['sy_snum'] == 1.0:\n",
    "        numstars = f\"System contains {x['sy_snum']} star\"\n",
    "    else:\n",
    "        numstars = f\"System contains {x['sy_snum']} stars\"\n",
    "        \n",
    "    if x['sy_pnum'] == 1.0:\n",
    "        plnum = f\"There is {x['sy_pnum']} confirmed exoplanet in there\"\n",
    "    else :\n",
    "        plnum = f\"There is {x['sy_pnum']} confirmed exoplanets in there\"\n",
    "        \n",
    "    if x['pl_orbper'] > 1.0:\n",
    "        plorb = f\"Its orbital period is {x['pl_orbper']} days\"\n",
    "    else :\n",
    "        plorb = f\"Its orbital period is {x['pl_orbper']} day\"\n",
    "        \n",
    "    \n",
    "    list_of_characteristics = [f\"Discovery year was {x['disc_year']}\", \n",
    "                                   f\"Host star is {x['hostname']}\",\n",
    "                                   f\"Exoplanet was named {x['pl_name']}\",\n",
    "                                   numstars,\n",
    "                                   plnum,\n",
    "                                   f\"Host star has {x['st_mass']} mas of the Sun\", \n",
    "                                   f\"System is {x['sy_dist']} parsecs [pc] from Sun\",\n",
    "                                   f\"Planet has radius of {x['pl_rade']} Earth radii\" , \n",
    "                                   plorb, \n",
    "                                   f\"Exoplanet belongs to {x['pl_type']} class\"]\n",
    "    \n",
    "    for item in list_of_characteristics:\n",
    "        print(item)"
   ]
  },
  {
   "cell_type": "code",
   "execution_count": 22,
   "id": "67266854-4702-41d6-b1e3-6bad50240a7a",
   "metadata": {},
   "outputs": [],
   "source": [
    "df_Exoplanet['decade_of_discovery'] = df_Exoplanet['disc_year'].apply(calc_decade)\n",
    "df_Exoplanet['pl_type'] = df_Exoplanet['pl_rade'].apply(simple_planet_class)\n",
    "df_Exoplanet['st_compactness'] = df_Exoplanet[['st_mass','st_rad']].apply(calc_compactness, axis = 1)"
   ]
  },
  {
   "cell_type": "code",
   "execution_count": 23,
   "id": "6c7276aa-8cf3-45ac-9ce9-32bfd0da5bc8",
   "metadata": {},
   "outputs": [
    {
     "data": {
      "text/html": [
       "<div>\n",
       "<style scoped>\n",
       "    .dataframe tbody tr th:only-of-type {\n",
       "        vertical-align: middle;\n",
       "    }\n",
       "\n",
       "    .dataframe tbody tr th {\n",
       "        vertical-align: top;\n",
       "    }\n",
       "\n",
       "    .dataframe thead th {\n",
       "        text-align: right;\n",
       "    }\n",
       "</style>\n",
       "<table border=\"1\" class=\"dataframe\">\n",
       "  <thead>\n",
       "    <tr style=\"text-align: right;\">\n",
       "      <th></th>\n",
       "      <th>pl_name</th>\n",
       "      <th>hostname</th>\n",
       "      <th>sy_snum</th>\n",
       "      <th>sy_pnum</th>\n",
       "      <th>discoverymethod</th>\n",
       "      <th>disc_year</th>\n",
       "      <th>pl_orbper</th>\n",
       "      <th>pl_rade</th>\n",
       "      <th>pl_bmasse</th>\n",
       "      <th>pl_bmassprov</th>\n",
       "      <th>...</th>\n",
       "      <th>st_spectype</th>\n",
       "      <th>st_teff</th>\n",
       "      <th>st_rad</th>\n",
       "      <th>st_mass</th>\n",
       "      <th>st_met</th>\n",
       "      <th>st_metratio</th>\n",
       "      <th>sy_dist</th>\n",
       "      <th>decade_of_discovery</th>\n",
       "      <th>pl_type</th>\n",
       "      <th>st_compactness</th>\n",
       "    </tr>\n",
       "  </thead>\n",
       "  <tbody>\n",
       "    <tr>\n",
       "      <th>0</th>\n",
       "      <td>11 Com b</td>\n",
       "      <td>11 Com</td>\n",
       "      <td>2</td>\n",
       "      <td>1</td>\n",
       "      <td>Radial Velocity</td>\n",
       "      <td>2007</td>\n",
       "      <td>326.03000</td>\n",
       "      <td>12.1</td>\n",
       "      <td>6165.6000</td>\n",
       "      <td>Msini</td>\n",
       "      <td>...</td>\n",
       "      <td>G8 III</td>\n",
       "      <td>4742.0</td>\n",
       "      <td>19.00</td>\n",
       "      <td>2.70</td>\n",
       "      <td>-0.35</td>\n",
       "      <td>[Fe/H]</td>\n",
       "      <td>93.1846</td>\n",
       "      <td>2000s</td>\n",
       "      <td>Jovian</td>\n",
       "      <td>0.142105</td>\n",
       "    </tr>\n",
       "    <tr>\n",
       "      <th>1</th>\n",
       "      <td>11 UMi b</td>\n",
       "      <td>11 UMi</td>\n",
       "      <td>1</td>\n",
       "      <td>1</td>\n",
       "      <td>Radial Velocity</td>\n",
       "      <td>2009</td>\n",
       "      <td>516.21997</td>\n",
       "      <td>12.3</td>\n",
       "      <td>4684.8142</td>\n",
       "      <td>Msini</td>\n",
       "      <td>...</td>\n",
       "      <td>K4 III</td>\n",
       "      <td>4213.0</td>\n",
       "      <td>29.79</td>\n",
       "      <td>2.78</td>\n",
       "      <td>-0.02</td>\n",
       "      <td>[Fe/H]</td>\n",
       "      <td>125.3210</td>\n",
       "      <td>2000s</td>\n",
       "      <td>Jovian</td>\n",
       "      <td>0.093320</td>\n",
       "    </tr>\n",
       "  </tbody>\n",
       "</table>\n",
       "<p>2 rows × 21 columns</p>\n",
       "</div>"
      ],
      "text/plain": [
       "    pl_name hostname  sy_snum  sy_pnum  discoverymethod  disc_year  pl_orbper  \\\n",
       "0  11 Com b   11 Com        2        1  Radial Velocity       2007  326.03000   \n",
       "1  11 UMi b   11 UMi        1        1  Radial Velocity       2009  516.21997   \n",
       "\n",
       "   pl_rade  pl_bmasse pl_bmassprov  ...  st_spectype st_teff  st_rad  st_mass  \\\n",
       "0     12.1  6165.6000        Msini  ...       G8 III  4742.0   19.00     2.70   \n",
       "1     12.3  4684.8142        Msini  ...       K4 III  4213.0   29.79     2.78   \n",
       "\n",
       "   st_met  st_metratio   sy_dist  decade_of_discovery pl_type st_compactness  \n",
       "0   -0.35       [Fe/H]   93.1846                2000s  Jovian       0.142105  \n",
       "1   -0.02       [Fe/H]  125.3210                2000s  Jovian       0.093320  \n",
       "\n",
       "[2 rows x 21 columns]"
      ]
     },
     "execution_count": 23,
     "metadata": {},
     "output_type": "execute_result"
    }
   ],
   "source": [
    "df_Exoplanet.head(2)"
   ]
  },
  {
   "cell_type": "markdown",
   "id": "ada0a20c-1779-4a0f-b578-6283f96be48c",
   "metadata": {},
   "source": [
    "Creating restricted dataframe containing columns only needed for conducted analysis\n",
    "\n",
    "[//]: # \"TODO learn more about dataframe view and copy\""
   ]
  },
  {
   "cell_type": "code",
   "execution_count": 24,
   "id": "8e166c56-c44e-4ee9-a315-b674f33d2466",
   "metadata": {},
   "outputs": [],
   "source": [
    "# list names of columns and turn result to list\n",
    "all_columns = df_Exoplanet.columns.tolist()"
   ]
  },
  {
   "cell_type": "code",
   "execution_count": 25,
   "id": "4a3a146b-38eb-4515-ad3c-31fdf77233ec",
   "metadata": {},
   "outputs": [],
   "source": [
    "# list of columns to keep\n",
    "columns_to_keep = ['pl_name', 'hostname', 'sy_snum', 'sy_pnum', 'discoverymethod','disc_year', \n",
    "                   'pl_rade', 'pl_orbper', \n",
    "                   'st_rad', 'st_mass', 'st_met', 'sy_dist', \n",
    "                   'decade_of_discovery', 'pl_type', 'st_compactness']"
   ]
  },
  {
   "cell_type": "code",
   "execution_count": 26,
   "id": "7380a387-438d-4000-bcba-1a2c57059ef7",
   "metadata": {},
   "outputs": [],
   "source": [
    "# creating list of columns to remove from dataframe\n",
    "columns_mask = [ele for ele in all_columns if ele not in columns_to_keep]"
   ]
  },
  {
   "cell_type": "code",
   "execution_count": 27,
   "id": "776831f2-85fc-400f-af4e-13bd7257e89a",
   "metadata": {},
   "outputs": [],
   "source": [
    "df_Exoplanet_restrict = df_Exoplanet.drop(columns_mask, axis = 1 )"
   ]
  },
  {
   "cell_type": "code",
   "execution_count": 28,
   "id": "14aba334-464c-47f3-8876-52da5c19df72",
   "metadata": {},
   "outputs": [],
   "source": [
    "# removing duplicate rows\n",
    "# find duplicate rows\n",
    "duplicate_rows = df_Exoplanet_restrict[df_Exoplanet_restrict.duplicated()]\n",
    "#duplicate_rows\n",
    "\n",
    "# alternatively in this case we know that pl_name should be unique so we may check to see if thre are any duplicates\n",
    "#df_Exoplanet_restrict['pl_name'].count() - df_Exoplanet_restrict['pl_name'].nunique()"
   ]
  },
  {
   "cell_type": "code",
   "execution_count": 29,
   "id": "6890a0e6-7832-4f88-a667-c87c8878fabe",
   "metadata": {},
   "outputs": [],
   "source": [
    "# selecting first row and casting it to dictionary\n",
    "#row_dict = df_Exoplanet_restrict.iloc[0].to_dict()\n",
    "# appending row to DataFrame, sidenote cannot append duplicate row\n",
    "#df_Exoplanet_restrict.append(row_dict, ignore_index=True)"
   ]
  },
  {
   "cell_type": "code",
   "execution_count": 30,
   "id": "88eec968-e01f-4ab2-ac28-3fa4d2da26f4",
   "metadata": {},
   "outputs": [
    {
     "name": "stdout",
     "output_type": "stream",
     "text": [
      "<class 'pandas.core.frame.DataFrame'>\n",
      "RangeIndex: 4676 entries, 0 to 4675\n",
      "Data columns (total 15 columns):\n",
      " #   Column               Non-Null Count  Dtype  \n",
      "---  ------               --------------  -----  \n",
      " 0   pl_name              4676 non-null   object \n",
      " 1   hostname             4676 non-null   object \n",
      " 2   sy_snum              4676 non-null   int64  \n",
      " 3   sy_pnum              4676 non-null   int64  \n",
      " 4   discoverymethod      4676 non-null   object \n",
      " 5   disc_year            4676 non-null   int64  \n",
      " 6   pl_orbper            4676 non-null   float64\n",
      " 7   pl_rade              4676 non-null   float64\n",
      " 8   st_rad               4676 non-null   float64\n",
      " 9   st_mass              4676 non-null   float64\n",
      " 10  st_met               4676 non-null   float64\n",
      " 11  sy_dist              4676 non-null   float64\n",
      " 12  decade_of_discovery  4676 non-null   object \n",
      " 13  pl_type              4676 non-null   object \n",
      " 14  st_compactness       4676 non-null   float64\n",
      "dtypes: float64(7), int64(3), object(5)\n",
      "memory usage: 548.1+ KB\n"
     ]
    }
   ],
   "source": [
    "# dropping rows with null values\n",
    "df_Exoplanet_restrict.dropna(inplace = True)\n",
    "df_Exoplanet_restrict.reset_index(inplace = True)\n",
    "df_Exoplanet_restrict.drop('index', axis = 1, inplace = True)\n",
    "df_Exoplanet_restrict.info()"
   ]
  },
  {
   "cell_type": "code",
   "execution_count": 31,
   "id": "3411f920-11d2-4bf7-8088-aefcd0baa91f",
   "metadata": {},
   "outputs": [
    {
     "data": {
      "text/html": [
       "<div>\n",
       "<style scoped>\n",
       "    .dataframe tbody tr th:only-of-type {\n",
       "        vertical-align: middle;\n",
       "    }\n",
       "\n",
       "    .dataframe tbody tr th {\n",
       "        vertical-align: top;\n",
       "    }\n",
       "\n",
       "    .dataframe thead th {\n",
       "        text-align: right;\n",
       "    }\n",
       "</style>\n",
       "<table border=\"1\" class=\"dataframe\">\n",
       "  <thead>\n",
       "    <tr style=\"text-align: right;\">\n",
       "      <th></th>\n",
       "      <th>sy_snum</th>\n",
       "      <th>sy_pnum</th>\n",
       "      <th>disc_year</th>\n",
       "      <th>pl_orbper</th>\n",
       "      <th>pl_rade</th>\n",
       "      <th>st_rad</th>\n",
       "      <th>st_mass</th>\n",
       "      <th>st_met</th>\n",
       "      <th>sy_dist</th>\n",
       "      <th>st_compactness</th>\n",
       "    </tr>\n",
       "  </thead>\n",
       "  <tbody>\n",
       "    <tr>\n",
       "      <th>count</th>\n",
       "      <td>4676.000000</td>\n",
       "      <td>4676.000000</td>\n",
       "      <td>4676.000000</td>\n",
       "      <td>4.676000e+03</td>\n",
       "      <td>4676.000000</td>\n",
       "      <td>4676.000000</td>\n",
       "      <td>4676.000000</td>\n",
       "      <td>4676.000000</td>\n",
       "      <td>4676.000000</td>\n",
       "      <td>4676.000000</td>\n",
       "    </tr>\n",
       "    <tr>\n",
       "      <th>mean</th>\n",
       "      <td>1.097947</td>\n",
       "      <td>1.788067</td>\n",
       "      <td>2015.373182</td>\n",
       "      <td>8.627725e+04</td>\n",
       "      <td>5.298380</td>\n",
       "      <td>1.520265</td>\n",
       "      <td>0.984998</td>\n",
       "      <td>0.010856</td>\n",
       "      <td>558.791869</td>\n",
       "      <td>0.935480</td>\n",
       "    </tr>\n",
       "    <tr>\n",
       "      <th>std</th>\n",
       "      <td>0.332593</td>\n",
       "      <td>1.162974</td>\n",
       "      <td>4.133903</td>\n",
       "      <td>5.878798e+06</td>\n",
       "      <td>5.096335</td>\n",
       "      <td>3.655598</td>\n",
       "      <td>0.413423</td>\n",
       "      <td>0.180105</td>\n",
       "      <td>487.305007</td>\n",
       "      <td>0.211384</td>\n",
       "    </tr>\n",
       "    <tr>\n",
       "      <th>min</th>\n",
       "      <td>1.000000</td>\n",
       "      <td>1.000000</td>\n",
       "      <td>1989.000000</td>\n",
       "      <td>1.797190e-01</td>\n",
       "      <td>0.296000</td>\n",
       "      <td>0.110000</td>\n",
       "      <td>0.090000</td>\n",
       "      <td>-1.000000</td>\n",
       "      <td>3.202600</td>\n",
       "      <td>0.024764</td>\n",
       "    </tr>\n",
       "    <tr>\n",
       "      <th>25%</th>\n",
       "      <td>1.000000</td>\n",
       "      <td>1.000000</td>\n",
       "      <td>2014.000000</td>\n",
       "      <td>4.521068e+00</td>\n",
       "      <td>1.709000</td>\n",
       "      <td>0.790000</td>\n",
       "      <td>0.820000</td>\n",
       "      <td>-0.080000</td>\n",
       "      <td>150.188500</td>\n",
       "      <td>0.885246</td>\n",
       "    </tr>\n",
       "    <tr>\n",
       "      <th>50%</th>\n",
       "      <td>1.000000</td>\n",
       "      <td>1.000000</td>\n",
       "      <td>2016.000000</td>\n",
       "      <td>1.156951e+01</td>\n",
       "      <td>2.635000</td>\n",
       "      <td>0.960000</td>\n",
       "      <td>0.960000</td>\n",
       "      <td>0.020000</td>\n",
       "      <td>447.775500</td>\n",
       "      <td>0.990291</td>\n",
       "    </tr>\n",
       "    <tr>\n",
       "      <th>75%</th>\n",
       "      <td>1.000000</td>\n",
       "      <td>2.000000</td>\n",
       "      <td>2018.000000</td>\n",
       "      <td>3.860117e+01</td>\n",
       "      <td>9.766250</td>\n",
       "      <td>1.250000</td>\n",
       "      <td>1.100000</td>\n",
       "      <td>0.120000</td>\n",
       "      <td>848.254000</td>\n",
       "      <td>1.048780</td>\n",
       "    </tr>\n",
       "    <tr>\n",
       "      <th>max</th>\n",
       "      <td>4.000000</td>\n",
       "      <td>8.000000</td>\n",
       "      <td>2022.000000</td>\n",
       "      <td>4.020000e+08</td>\n",
       "      <td>30.488000</td>\n",
       "      <td>83.800000</td>\n",
       "      <td>10.940000</td>\n",
       "      <td>0.560000</td>\n",
       "      <td>4483.050000</td>\n",
       "      <td>2.500000</td>\n",
       "    </tr>\n",
       "  </tbody>\n",
       "</table>\n",
       "</div>"
      ],
      "text/plain": [
       "           sy_snum      sy_pnum    disc_year     pl_orbper      pl_rade  \\\n",
       "count  4676.000000  4676.000000  4676.000000  4.676000e+03  4676.000000   \n",
       "mean      1.097947     1.788067  2015.373182  8.627725e+04     5.298380   \n",
       "std       0.332593     1.162974     4.133903  5.878798e+06     5.096335   \n",
       "min       1.000000     1.000000  1989.000000  1.797190e-01     0.296000   \n",
       "25%       1.000000     1.000000  2014.000000  4.521068e+00     1.709000   \n",
       "50%       1.000000     1.000000  2016.000000  1.156951e+01     2.635000   \n",
       "75%       1.000000     2.000000  2018.000000  3.860117e+01     9.766250   \n",
       "max       4.000000     8.000000  2022.000000  4.020000e+08    30.488000   \n",
       "\n",
       "            st_rad      st_mass       st_met      sy_dist  st_compactness  \n",
       "count  4676.000000  4676.000000  4676.000000  4676.000000     4676.000000  \n",
       "mean      1.520265     0.984998     0.010856   558.791869        0.935480  \n",
       "std       3.655598     0.413423     0.180105   487.305007        0.211384  \n",
       "min       0.110000     0.090000    -1.000000     3.202600        0.024764  \n",
       "25%       0.790000     0.820000    -0.080000   150.188500        0.885246  \n",
       "50%       0.960000     0.960000     0.020000   447.775500        0.990291  \n",
       "75%       1.250000     1.100000     0.120000   848.254000        1.048780  \n",
       "max      83.800000    10.940000     0.560000  4483.050000        2.500000  "
      ]
     },
     "execution_count": 31,
     "metadata": {},
     "output_type": "execute_result"
    }
   ],
   "source": [
    "df_Exoplanet_restrict.describe()"
   ]
  },
  {
   "cell_type": "code",
   "execution_count": 32,
   "id": "136d6265-14ac-41e9-88c4-a02986dc1d62",
   "metadata": {},
   "outputs": [],
   "source": [
    "# since we work with the numerical data there is no need to spellcheck or to look for incorrect whitespaces"
   ]
  },
  {
   "cell_type": "code",
   "execution_count": 33,
   "id": "84f34f4b-da69-4995-bbf7-cf652aaf47c7",
   "metadata": {},
   "outputs": [],
   "source": [
    "# exporting dataframe to Excel\n",
    "#df_Exoplanet_restrict.to_excel('Exoplanet_exploration.xlsx')"
   ]
  },
  {
   "cell_type": "code",
   "execution_count": 34,
   "id": "f6d13d8c-4526-4b36-a7c5-49caa078023a",
   "metadata": {},
   "outputs": [],
   "source": [
    "# export dataframe to csv\n",
    "#df_Exoplanet_restrict.to_csv('Exoplanet_exploration.csv')"
   ]
  },
  {
   "cell_type": "markdown",
   "id": "ec1b269b-e6b0-4730-86f6-f401a3b880f5",
   "metadata": {},
   "source": [
    "# Exploring discovery history"
   ]
  },
  {
   "cell_type": "markdown",
   "id": "88eed2f3-0de3-4dd8-b9fb-30c928fdb3d8",
   "metadata": {},
   "source": [
    "<font size = '5'> First discovered exoplanet </font>"
   ]
  },
  {
   "cell_type": "code",
   "execution_count": 35,
   "id": "459ed0c9-b2b4-4a96-a7c6-ed61253a207c",
   "metadata": {},
   "outputs": [
    {
     "data": {
      "text/plain": [
       "pl_name                    HD 114762 b\n",
       "hostname                     HD 114762\n",
       "sy_snum                              2\n",
       "sy_pnum                              1\n",
       "discoverymethod        Radial Velocity\n",
       "disc_year                         1989\n",
       "pl_orbper                      83.9151\n",
       "pl_rade                          12.44\n",
       "st_rad                             1.2\n",
       "st_mass                            0.8\n",
       "st_met                           -0.72\n",
       "sy_dist                        40.1949\n",
       "decade_of_discovery              1980s\n",
       "pl_type                         Jovian\n",
       "st_compactness                0.666667\n",
       "Name: 442, dtype: object"
      ]
     },
     "execution_count": 35,
     "metadata": {},
     "output_type": "execute_result"
    }
   ],
   "source": [
    "first_discovered = df_Exoplanet_restrict.iloc[df_Exoplanet_restrict['disc_year'].idxmin()]\n",
    "first_discovered"
   ]
  },
  {
   "cell_type": "code",
   "execution_count": 36,
   "id": "506b6638-1598-485a-afb8-88c32ed1bbc7",
   "metadata": {},
   "outputs": [
    {
     "name": "stdout",
     "output_type": "stream",
     "text": [
      "Discovery year was 1989\n",
      "Host star is HD 114762\n",
      "Exoplanet was named HD 114762 b\n",
      "System contains 2 stars\n",
      "There is 1 confirmed exoplanet in there\n",
      "Host star has 0.8 mas of the Sun\n",
      "System is 40.1949 parsecs [pc] from Sun\n",
      "Planet has radius of 12.44 Earth radii\n",
      "Its orbital period is 83.9151 days\n",
      "Exoplanet belongs to Jovian class\n"
     ]
    }
   ],
   "source": [
    "describe_planet(first_discovered)"
   ]
  },
  {
   "cell_type": "markdown",
   "id": "9546b5fd-2427-4995-a148-9ccc60129f10",
   "metadata": {},
   "source": [
    "<font size = '5'> First discovered rocky Earth size exoplanet </font>"
   ]
  },
  {
   "cell_type": "code",
   "execution_count": 37,
   "id": "d79eb73a-bbf6-4b8d-8287-686e2d4f44cf",
   "metadata": {},
   "outputs": [
    {
     "data": {
      "text/plain": [
       "pl_name                                     KOI-55 b\n",
       "hostname                                      KOI-55\n",
       "sy_snum                                            1\n",
       "sy_pnum                                            2\n",
       "discoverymethod        Orbital Brightness Modulation\n",
       "disc_year                                       2011\n",
       "pl_orbper                                   0.240104\n",
       "pl_rade                                        0.759\n",
       "st_rad                                           0.2\n",
       "st_mass                                          0.5\n",
       "st_met                                        -0.106\n",
       "sy_dist                                      1231.02\n",
       "decade_of_discovery                            2010s\n",
       "pl_type                                  Terrestrial\n",
       "st_compactness                                   2.5\n",
       "Name: 1538, dtype: object"
      ]
     },
     "execution_count": 37,
     "metadata": {},
     "output_type": "execute_result"
    }
   ],
   "source": [
    "first_terrestial = df_Exoplanet_restrict.iloc[df_Exoplanet_restrict[df_Exoplanet_restrict['pl_type'] == 'Terrestrial']['disc_year'].idxmin()]\n",
    "first_terrestial"
   ]
  },
  {
   "cell_type": "code",
   "execution_count": 38,
   "id": "6720a9d7-9551-4c76-b07d-c2d8bc21865c",
   "metadata": {},
   "outputs": [
    {
     "name": "stdout",
     "output_type": "stream",
     "text": [
      "Discovery year was 2011\n",
      "Host star is KOI-55\n",
      "Exoplanet was named KOI-55 b\n",
      "System contains 1 star\n",
      "There is 2 confirmed exoplanets in there\n",
      "Host star has 0.5 mas of the Sun\n",
      "System is 1231.02 parsecs [pc] from Sun\n",
      "Planet has radius of 0.759 Earth radii\n",
      "Its orbital period is 0.240104 day\n",
      "Exoplanet belongs to Terrestrial class\n"
     ]
    }
   ],
   "source": [
    "describe_planet(first_terrestial)"
   ]
  },
  {
   "cell_type": "code",
   "execution_count": 39,
   "id": "7f75b0b4-e872-4cfb-a013-b064033b32b6",
   "metadata": {},
   "outputs": [],
   "source": [
    "# creating list of unique values of given column\n",
    "discovery_methods = df_Exoplanet_restrict['discoverymethod'].unique()"
   ]
  },
  {
   "cell_type": "code",
   "execution_count": 40,
   "id": "533c4796-10c6-454c-b9f6-eb2be8329336",
   "metadata": {},
   "outputs": [],
   "source": [
    "#discovery_methods"
   ]
  },
  {
   "cell_type": "code",
   "execution_count": 41,
   "id": "40c1af44-a7c2-4d5f-a362-42cda5f8fd74",
   "metadata": {},
   "outputs": [],
   "source": [
    "# separating each group of dataframe into dictionary for plotting\n",
    "method_by_year = {}\n",
    "for i,item in enumerate(discovery_methods):\n",
    "    method_by_year[item] = df_Exoplanet_restrict.groupby(['discoverymethod','decade_of_discovery']).count().loc[discovery_methods[i]]['pl_name'].reset_index()"
   ]
  },
  {
   "cell_type": "code",
   "execution_count": 42,
   "id": "21bdcd18-de75-4e25-891c-f729bca0b75e",
   "metadata": {},
   "outputs": [],
   "source": [
    "#ax = sns.catplot(data = method_by_year['Transit'], x = 'decade_of_discovery', y = 'pl_name', kind = 'bar')\n",
    "#plt.ylabel('Number of discovered Exoplanet')"
   ]
  },
  {
   "cell_type": "code",
   "execution_count": 43,
   "id": "d3623881-34d5-4685-a1f1-6cb78ad88b69",
   "metadata": {},
   "outputs": [
    {
     "data": {
      "application/vnd.plotly.v1+json": {
       "config": {
        "plotlyServerURL": "https://plot.ly"
       },
       "data": [
        {
         "name": "Radial Velocity",
         "type": "bar",
         "x": [
          "1980s",
          "1990s",
          "2000s",
          "2010s",
          "2020s"
         ],
         "y": [
          1,
          27,
          292,
          431,
          121
         ]
        },
        {
         "name": "Eclipse Timing Variations",
         "type": "bar",
         "x": [
          "2010s",
          "2020s"
         ],
         "y": [
          2,
          2
         ]
        },
        {
         "name": "Imaging",
         "type": "bar",
         "x": [
          "2000s",
          "2010s",
          "2020s"
         ],
         "y": [
          4,
          3,
          1
         ]
        },
        {
         "name": "Transit",
         "type": "bar",
         "x": [
          "2000s",
          "2010s",
          "2020s"
         ],
         "y": [
          59,
          3071,
          634
         ]
        },
        {
         "name": "Orbital Brightness Modulation",
         "type": "bar",
         "x": [
          "2010s",
          "2020s"
         ],
         "y": [
          3,
          3
         ]
        },
        {
         "name": "Pulsation Timing Variations",
         "type": "bar",
         "x": [
          "2010s"
         ],
         "y": [
          1
         ]
        },
        {
         "name": "Transit Timing Variations",
         "type": "bar",
         "x": [
          "2010s",
          "2020s"
         ],
         "y": [
          20,
          1
         ]
        }
       ],
       "layout": {
        "height": 600,
        "legend": {
         "title": {
          "text": "Discovery Method"
         }
        },
        "template": {
         "data": {
          "bar": [
           {
            "error_x": {
             "color": "#2a3f5f"
            },
            "error_y": {
             "color": "#2a3f5f"
            },
            "marker": {
             "line": {
              "color": "white",
              "width": 0.5
             },
             "pattern": {
              "fillmode": "overlay",
              "size": 10,
              "solidity": 0.2
             }
            },
            "type": "bar"
           }
          ],
          "barpolar": [
           {
            "marker": {
             "line": {
              "color": "white",
              "width": 0.5
             },
             "pattern": {
              "fillmode": "overlay",
              "size": 10,
              "solidity": 0.2
             }
            },
            "type": "barpolar"
           }
          ],
          "carpet": [
           {
            "aaxis": {
             "endlinecolor": "#2a3f5f",
             "gridcolor": "#C8D4E3",
             "linecolor": "#C8D4E3",
             "minorgridcolor": "#C8D4E3",
             "startlinecolor": "#2a3f5f"
            },
            "baxis": {
             "endlinecolor": "#2a3f5f",
             "gridcolor": "#C8D4E3",
             "linecolor": "#C8D4E3",
             "minorgridcolor": "#C8D4E3",
             "startlinecolor": "#2a3f5f"
            },
            "type": "carpet"
           }
          ],
          "choropleth": [
           {
            "colorbar": {
             "outlinewidth": 0,
             "ticks": ""
            },
            "type": "choropleth"
           }
          ],
          "contour": [
           {
            "colorbar": {
             "outlinewidth": 0,
             "ticks": ""
            },
            "colorscale": [
             [
              0,
              "#0d0887"
             ],
             [
              0.1111111111111111,
              "#46039f"
             ],
             [
              0.2222222222222222,
              "#7201a8"
             ],
             [
              0.3333333333333333,
              "#9c179e"
             ],
             [
              0.4444444444444444,
              "#bd3786"
             ],
             [
              0.5555555555555556,
              "#d8576b"
             ],
             [
              0.6666666666666666,
              "#ed7953"
             ],
             [
              0.7777777777777778,
              "#fb9f3a"
             ],
             [
              0.8888888888888888,
              "#fdca26"
             ],
             [
              1,
              "#f0f921"
             ]
            ],
            "type": "contour"
           }
          ],
          "contourcarpet": [
           {
            "colorbar": {
             "outlinewidth": 0,
             "ticks": ""
            },
            "type": "contourcarpet"
           }
          ],
          "heatmap": [
           {
            "colorbar": {
             "outlinewidth": 0,
             "ticks": ""
            },
            "colorscale": [
             [
              0,
              "#0d0887"
             ],
             [
              0.1111111111111111,
              "#46039f"
             ],
             [
              0.2222222222222222,
              "#7201a8"
             ],
             [
              0.3333333333333333,
              "#9c179e"
             ],
             [
              0.4444444444444444,
              "#bd3786"
             ],
             [
              0.5555555555555556,
              "#d8576b"
             ],
             [
              0.6666666666666666,
              "#ed7953"
             ],
             [
              0.7777777777777778,
              "#fb9f3a"
             ],
             [
              0.8888888888888888,
              "#fdca26"
             ],
             [
              1,
              "#f0f921"
             ]
            ],
            "type": "heatmap"
           }
          ],
          "heatmapgl": [
           {
            "colorbar": {
             "outlinewidth": 0,
             "ticks": ""
            },
            "colorscale": [
             [
              0,
              "#0d0887"
             ],
             [
              0.1111111111111111,
              "#46039f"
             ],
             [
              0.2222222222222222,
              "#7201a8"
             ],
             [
              0.3333333333333333,
              "#9c179e"
             ],
             [
              0.4444444444444444,
              "#bd3786"
             ],
             [
              0.5555555555555556,
              "#d8576b"
             ],
             [
              0.6666666666666666,
              "#ed7953"
             ],
             [
              0.7777777777777778,
              "#fb9f3a"
             ],
             [
              0.8888888888888888,
              "#fdca26"
             ],
             [
              1,
              "#f0f921"
             ]
            ],
            "type": "heatmapgl"
           }
          ],
          "histogram": [
           {
            "marker": {
             "pattern": {
              "fillmode": "overlay",
              "size": 10,
              "solidity": 0.2
             }
            },
            "type": "histogram"
           }
          ],
          "histogram2d": [
           {
            "colorbar": {
             "outlinewidth": 0,
             "ticks": ""
            },
            "colorscale": [
             [
              0,
              "#0d0887"
             ],
             [
              0.1111111111111111,
              "#46039f"
             ],
             [
              0.2222222222222222,
              "#7201a8"
             ],
             [
              0.3333333333333333,
              "#9c179e"
             ],
             [
              0.4444444444444444,
              "#bd3786"
             ],
             [
              0.5555555555555556,
              "#d8576b"
             ],
             [
              0.6666666666666666,
              "#ed7953"
             ],
             [
              0.7777777777777778,
              "#fb9f3a"
             ],
             [
              0.8888888888888888,
              "#fdca26"
             ],
             [
              1,
              "#f0f921"
             ]
            ],
            "type": "histogram2d"
           }
          ],
          "histogram2dcontour": [
           {
            "colorbar": {
             "outlinewidth": 0,
             "ticks": ""
            },
            "colorscale": [
             [
              0,
              "#0d0887"
             ],
             [
              0.1111111111111111,
              "#46039f"
             ],
             [
              0.2222222222222222,
              "#7201a8"
             ],
             [
              0.3333333333333333,
              "#9c179e"
             ],
             [
              0.4444444444444444,
              "#bd3786"
             ],
             [
              0.5555555555555556,
              "#d8576b"
             ],
             [
              0.6666666666666666,
              "#ed7953"
             ],
             [
              0.7777777777777778,
              "#fb9f3a"
             ],
             [
              0.8888888888888888,
              "#fdca26"
             ],
             [
              1,
              "#f0f921"
             ]
            ],
            "type": "histogram2dcontour"
           }
          ],
          "mesh3d": [
           {
            "colorbar": {
             "outlinewidth": 0,
             "ticks": ""
            },
            "type": "mesh3d"
           }
          ],
          "parcoords": [
           {
            "line": {
             "colorbar": {
              "outlinewidth": 0,
              "ticks": ""
             }
            },
            "type": "parcoords"
           }
          ],
          "pie": [
           {
            "automargin": true,
            "type": "pie"
           }
          ],
          "scatter": [
           {
            "marker": {
             "colorbar": {
              "outlinewidth": 0,
              "ticks": ""
             }
            },
            "type": "scatter"
           }
          ],
          "scatter3d": [
           {
            "line": {
             "colorbar": {
              "outlinewidth": 0,
              "ticks": ""
             }
            },
            "marker": {
             "colorbar": {
              "outlinewidth": 0,
              "ticks": ""
             }
            },
            "type": "scatter3d"
           }
          ],
          "scattercarpet": [
           {
            "marker": {
             "colorbar": {
              "outlinewidth": 0,
              "ticks": ""
             }
            },
            "type": "scattercarpet"
           }
          ],
          "scattergeo": [
           {
            "marker": {
             "colorbar": {
              "outlinewidth": 0,
              "ticks": ""
             }
            },
            "type": "scattergeo"
           }
          ],
          "scattergl": [
           {
            "marker": {
             "colorbar": {
              "outlinewidth": 0,
              "ticks": ""
             }
            },
            "type": "scattergl"
           }
          ],
          "scattermapbox": [
           {
            "marker": {
             "colorbar": {
              "outlinewidth": 0,
              "ticks": ""
             }
            },
            "type": "scattermapbox"
           }
          ],
          "scatterpolar": [
           {
            "marker": {
             "colorbar": {
              "outlinewidth": 0,
              "ticks": ""
             }
            },
            "type": "scatterpolar"
           }
          ],
          "scatterpolargl": [
           {
            "marker": {
             "colorbar": {
              "outlinewidth": 0,
              "ticks": ""
             }
            },
            "type": "scatterpolargl"
           }
          ],
          "scatterternary": [
           {
            "marker": {
             "colorbar": {
              "outlinewidth": 0,
              "ticks": ""
             }
            },
            "type": "scatterternary"
           }
          ],
          "surface": [
           {
            "colorbar": {
             "outlinewidth": 0,
             "ticks": ""
            },
            "colorscale": [
             [
              0,
              "#0d0887"
             ],
             [
              0.1111111111111111,
              "#46039f"
             ],
             [
              0.2222222222222222,
              "#7201a8"
             ],
             [
              0.3333333333333333,
              "#9c179e"
             ],
             [
              0.4444444444444444,
              "#bd3786"
             ],
             [
              0.5555555555555556,
              "#d8576b"
             ],
             [
              0.6666666666666666,
              "#ed7953"
             ],
             [
              0.7777777777777778,
              "#fb9f3a"
             ],
             [
              0.8888888888888888,
              "#fdca26"
             ],
             [
              1,
              "#f0f921"
             ]
            ],
            "type": "surface"
           }
          ],
          "table": [
           {
            "cells": {
             "fill": {
              "color": "#EBF0F8"
             },
             "line": {
              "color": "white"
             }
            },
            "header": {
             "fill": {
              "color": "#C8D4E3"
             },
             "line": {
              "color": "white"
             }
            },
            "type": "table"
           }
          ]
         },
         "layout": {
          "annotationdefaults": {
           "arrowcolor": "#2a3f5f",
           "arrowhead": 0,
           "arrowwidth": 1
          },
          "autotypenumbers": "strict",
          "coloraxis": {
           "colorbar": {
            "outlinewidth": 0,
            "ticks": ""
           }
          },
          "colorscale": {
           "diverging": [
            [
             0,
             "#8e0152"
            ],
            [
             0.1,
             "#c51b7d"
            ],
            [
             0.2,
             "#de77ae"
            ],
            [
             0.3,
             "#f1b6da"
            ],
            [
             0.4,
             "#fde0ef"
            ],
            [
             0.5,
             "#f7f7f7"
            ],
            [
             0.6,
             "#e6f5d0"
            ],
            [
             0.7,
             "#b8e186"
            ],
            [
             0.8,
             "#7fbc41"
            ],
            [
             0.9,
             "#4d9221"
            ],
            [
             1,
             "#276419"
            ]
           ],
           "sequential": [
            [
             0,
             "#0d0887"
            ],
            [
             0.1111111111111111,
             "#46039f"
            ],
            [
             0.2222222222222222,
             "#7201a8"
            ],
            [
             0.3333333333333333,
             "#9c179e"
            ],
            [
             0.4444444444444444,
             "#bd3786"
            ],
            [
             0.5555555555555556,
             "#d8576b"
            ],
            [
             0.6666666666666666,
             "#ed7953"
            ],
            [
             0.7777777777777778,
             "#fb9f3a"
            ],
            [
             0.8888888888888888,
             "#fdca26"
            ],
            [
             1,
             "#f0f921"
            ]
           ],
           "sequentialminus": [
            [
             0,
             "#0d0887"
            ],
            [
             0.1111111111111111,
             "#46039f"
            ],
            [
             0.2222222222222222,
             "#7201a8"
            ],
            [
             0.3333333333333333,
             "#9c179e"
            ],
            [
             0.4444444444444444,
             "#bd3786"
            ],
            [
             0.5555555555555556,
             "#d8576b"
            ],
            [
             0.6666666666666666,
             "#ed7953"
            ],
            [
             0.7777777777777778,
             "#fb9f3a"
            ],
            [
             0.8888888888888888,
             "#fdca26"
            ],
            [
             1,
             "#f0f921"
            ]
           ]
          },
          "colorway": [
           "#636efa",
           "#EF553B",
           "#00cc96",
           "#ab63fa",
           "#FFA15A",
           "#19d3f3",
           "#FF6692",
           "#B6E880",
           "#FF97FF",
           "#FECB52"
          ],
          "font": {
           "color": "#2a3f5f"
          },
          "geo": {
           "bgcolor": "white",
           "lakecolor": "white",
           "landcolor": "white",
           "showlakes": true,
           "showland": true,
           "subunitcolor": "#C8D4E3"
          },
          "hoverlabel": {
           "align": "left"
          },
          "hovermode": "closest",
          "mapbox": {
           "style": "light"
          },
          "paper_bgcolor": "white",
          "plot_bgcolor": "white",
          "polar": {
           "angularaxis": {
            "gridcolor": "#EBF0F8",
            "linecolor": "#EBF0F8",
            "ticks": ""
           },
           "bgcolor": "white",
           "radialaxis": {
            "gridcolor": "#EBF0F8",
            "linecolor": "#EBF0F8",
            "ticks": ""
           }
          },
          "scene": {
           "xaxis": {
            "backgroundcolor": "white",
            "gridcolor": "#DFE8F3",
            "gridwidth": 2,
            "linecolor": "#EBF0F8",
            "showbackground": true,
            "ticks": "",
            "zerolinecolor": "#EBF0F8"
           },
           "yaxis": {
            "backgroundcolor": "white",
            "gridcolor": "#DFE8F3",
            "gridwidth": 2,
            "linecolor": "#EBF0F8",
            "showbackground": true,
            "ticks": "",
            "zerolinecolor": "#EBF0F8"
           },
           "zaxis": {
            "backgroundcolor": "white",
            "gridcolor": "#DFE8F3",
            "gridwidth": 2,
            "linecolor": "#EBF0F8",
            "showbackground": true,
            "ticks": "",
            "zerolinecolor": "#EBF0F8"
           }
          },
          "shapedefaults": {
           "line": {
            "color": "#2a3f5f"
           }
          },
          "ternary": {
           "aaxis": {
            "gridcolor": "#DFE8F3",
            "linecolor": "#A2B1C6",
            "ticks": ""
           },
           "baxis": {
            "gridcolor": "#DFE8F3",
            "linecolor": "#A2B1C6",
            "ticks": ""
           },
           "bgcolor": "white",
           "caxis": {
            "gridcolor": "#DFE8F3",
            "linecolor": "#A2B1C6",
            "ticks": ""
           }
          },
          "title": {
           "x": 0.05
          },
          "xaxis": {
           "automargin": true,
           "gridcolor": "#EBF0F8",
           "linecolor": "#EBF0F8",
           "ticks": "",
           "title": {
            "standoff": 15
           },
           "zerolinecolor": "#EBF0F8",
           "zerolinewidth": 2
          },
          "yaxis": {
           "automargin": true,
           "gridcolor": "#EBF0F8",
           "linecolor": "#EBF0F8",
           "ticks": "",
           "title": {
            "standoff": 15
           },
           "zerolinecolor": "#EBF0F8",
           "zerolinewidth": 2
          }
         }
        },
        "title": {
         "text": "Number of planets discovered per decade"
        },
        "width": 1000,
        "xaxis": {
         "autorange": true,
         "range": [
          -0.5,
          4.5
         ],
         "showgrid": true,
         "title": {
          "text": "Decade of Discovery"
         },
         "type": "category"
        },
        "yaxis": {
         "autorange": true,
         "range": [
          0,
          3232.6315789473683
         ],
         "showgrid": true,
         "title": {
          "text": "Number of Exoplanets Discovered"
         },
         "type": "linear"
        }
       }
      },
      "image/png": "[encoded data removed]",
      "text/html": [
       "<div>                            <div id=\"442bb148-2f8a-429e-87d3-a3ca6b2934b4\" class=\"plotly-graph-div\" style=\"height:600px; width:1000px;\"></div>            <script type=\"text/javascript\">                require([\"plotly\"], function(Plotly) {                    window.PLOTLYENV=window.PLOTLYENV || {};                                    if (document.getElementById(\"442bb148-2f8a-429e-87d3-a3ca6b2934b4\")) {                    Plotly.newPlot(                        \"442bb148-2f8a-429e-87d3-a3ca6b2934b4\",                        [{\"name\":\"Radial Velocity\",\"x\":[\"1980s\",\"1990s\",\"2000s\",\"2010s\",\"2020s\"],\"y\":[1,27,292,431,121],\"type\":\"bar\"},{\"name\":\"Eclipse Timing Variations\",\"x\":[\"2010s\",\"2020s\"],\"y\":[2,2],\"type\":\"bar\"},{\"name\":\"Imaging\",\"x\":[\"2000s\",\"2010s\",\"2020s\"],\"y\":[4,3,1],\"type\":\"bar\"},{\"name\":\"Transit\",\"x\":[\"2000s\",\"2010s\",\"2020s\"],\"y\":[59,3071,634],\"type\":\"bar\"},{\"name\":\"Orbital Brightness Modulation\",\"x\":[\"2010s\",\"2020s\"],\"y\":[3,3],\"type\":\"bar\"},{\"name\":\"Pulsation Timing Variations\",\"x\":[\"2010s\"],\"y\":[1],\"type\":\"bar\"},{\"name\":\"Transit Timing Variations\",\"x\":[\"2010s\",\"2020s\"],\"y\":[20,1],\"type\":\"bar\"}],                        {\"height\":600,\"legend\":{\"title\":{\"text\":\"Discovery Method\"}},\"template\":{\"data\":{\"barpolar\":[{\"marker\":{\"line\":{\"color\":\"white\",\"width\":0.5},\"pattern\":{\"fillmode\":\"overlay\",\"size\":10,\"solidity\":0.2}},\"type\":\"barpolar\"}],\"bar\":[{\"error_x\":{\"color\":\"#2a3f5f\"},\"error_y\":{\"color\":\"#2a3f5f\"},\"marker\":{\"line\":{\"color\":\"white\",\"width\":0.5},\"pattern\":{\"fillmode\":\"overlay\",\"size\":10,\"solidity\":0.2}},\"type\":\"bar\"}],\"carpet\":[{\"aaxis\":{\"endlinecolor\":\"#2a3f5f\",\"gridcolor\":\"#C8D4E3\",\"linecolor\":\"#C8D4E3\",\"minorgridcolor\":\"#C8D4E3\",\"startlinecolor\":\"#2a3f5f\"},\"baxis\":{\"endlinecolor\":\"#2a3f5f\",\"gridcolor\":\"#C8D4E3\",\"linecolor\":\"#C8D4E3\",\"minorgridcolor\":\"#C8D4E3\",\"startlinecolor\":\"#2a3f5f\"},\"type\":\"carpet\"}],\"choropleth\":[{\"colorbar\":{\"outlinewidth\":0,\"ticks\":\"\"},\"type\":\"choropleth\"}],\"contourcarpet\":[{\"colorbar\":{\"outlinewidth\":0,\"ticks\":\"\"},\"type\":\"contourcarpet\"}],\"contour\":[{\"colorbar\":{\"outlinewidth\":0,\"ticks\":\"\"},\"colorscale\":[[0.0,\"#0d0887\"],[0.1111111111111111,\"#46039f\"],[0.2222222222222222,\"#7201a8\"],[0.3333333333333333,\"#9c179e\"],[0.4444444444444444,\"#bd3786\"],[0.5555555555555556,\"#d8576b\"],[0.6666666666666666,\"#ed7953\"],[0.7777777777777778,\"#fb9f3a\"],[0.8888888888888888,\"#fdca26\"],[1.0,\"#f0f921\"]],\"type\":\"contour\"}],\"heatmapgl\":[{\"colorbar\":{\"outlinewidth\":0,\"ticks\":\"\"},\"colorscale\":[[0.0,\"#0d0887\"],[0.1111111111111111,\"#46039f\"],[0.2222222222222222,\"#7201a8\"],[0.3333333333333333,\"#9c179e\"],[0.4444444444444444,\"#bd3786\"],[0.5555555555555556,\"#d8576b\"],[0.6666666666666666,\"#ed7953\"],[0.7777777777777778,\"#fb9f3a\"],[0.8888888888888888,\"#fdca26\"],[1.0,\"#f0f921\"]],\"type\":\"heatmapgl\"}],\"heatmap\":[{\"colorbar\":{\"outlinewidth\":0,\"ticks\":\"\"},\"colorscale\":[[0.0,\"#0d0887\"],[0.1111111111111111,\"#46039f\"],[0.2222222222222222,\"#7201a8\"],[0.3333333333333333,\"#9c179e\"],[0.4444444444444444,\"#bd3786\"],[0.5555555555555556,\"#d8576b\"],[0.6666666666666666,\"#ed7953\"],[0.7777777777777778,\"#fb9f3a\"],[0.8888888888888888,\"#fdca26\"],[1.0,\"#f0f921\"]],\"type\":\"heatmap\"}],\"histogram2dcontour\":[{\"colorbar\":{\"outlinewidth\":0,\"ticks\":\"\"},\"colorscale\":[[0.0,\"#0d0887\"],[0.1111111111111111,\"#46039f\"],[0.2222222222222222,\"#7201a8\"],[0.3333333333333333,\"#9c179e\"],[0.4444444444444444,\"#bd3786\"],[0.5555555555555556,\"#d8576b\"],[0.6666666666666666,\"#ed7953\"],[0.7777777777777778,\"#fb9f3a\"],[0.8888888888888888,\"#fdca26\"],[1.0,\"#f0f921\"]],\"type\":\"histogram2dcontour\"}],\"histogram2d\":[{\"colorbar\":{\"outlinewidth\":0,\"ticks\":\"\"},\"colorscale\":[[0.0,\"#0d0887\"],[0.1111111111111111,\"#46039f\"],[0.2222222222222222,\"#7201a8\"],[0.3333333333333333,\"#9c179e\"],[0.4444444444444444,\"#bd3786\"],[0.5555555555555556,\"#d8576b\"],[0.6666666666666666,\"#ed7953\"],[0.7777777777777778,\"#fb9f3a\"],[0.8888888888888888,\"#fdca26\"],[1.0,\"#f0f921\"]],\"type\":\"histogram2d\"}],\"histogram\":[{\"marker\":{\"pattern\":{\"fillmode\":\"overlay\",\"size\":10,\"solidity\":0.2}},\"type\":\"histogram\"}],\"mesh3d\":[{\"colorbar\":{\"outlinewidth\":0,\"ticks\":\"\"},\"type\":\"mesh3d\"}],\"parcoords\":[{\"line\":{\"colorbar\":{\"outlinewidth\":0,\"ticks\":\"\"}},\"type\":\"parcoords\"}],\"pie\":[{\"automargin\":true,\"type\":\"pie\"}],\"scatter3d\":[{\"line\":{\"colorbar\":{\"outlinewidth\":0,\"ticks\":\"\"}},\"marker\":{\"colorbar\":{\"outlinewidth\":0,\"ticks\":\"\"}},\"type\":\"scatter3d\"}],\"scattercarpet\":[{\"marker\":{\"colorbar\":{\"outlinewidth\":0,\"ticks\":\"\"}},\"type\":\"scattercarpet\"}],\"scattergeo\":[{\"marker\":{\"colorbar\":{\"outlinewidth\":0,\"ticks\":\"\"}},\"type\":\"scattergeo\"}],\"scattergl\":[{\"marker\":{\"colorbar\":{\"outlinewidth\":0,\"ticks\":\"\"}},\"type\":\"scattergl\"}],\"scattermapbox\":[{\"marker\":{\"colorbar\":{\"outlinewidth\":0,\"ticks\":\"\"}},\"type\":\"scattermapbox\"}],\"scatterpolargl\":[{\"marker\":{\"colorbar\":{\"outlinewidth\":0,\"ticks\":\"\"}},\"type\":\"scatterpolargl\"}],\"scatterpolar\":[{\"marker\":{\"colorbar\":{\"outlinewidth\":0,\"ticks\":\"\"}},\"type\":\"scatterpolar\"}],\"scatter\":[{\"marker\":{\"colorbar\":{\"outlinewidth\":0,\"ticks\":\"\"}},\"type\":\"scatter\"}],\"scatterternary\":[{\"marker\":{\"colorbar\":{\"outlinewidth\":0,\"ticks\":\"\"}},\"type\":\"scatterternary\"}],\"surface\":[{\"colorbar\":{\"outlinewidth\":0,\"ticks\":\"\"},\"colorscale\":[[0.0,\"#0d0887\"],[0.1111111111111111,\"#46039f\"],[0.2222222222222222,\"#7201a8\"],[0.3333333333333333,\"#9c179e\"],[0.4444444444444444,\"#bd3786\"],[0.5555555555555556,\"#d8576b\"],[0.6666666666666666,\"#ed7953\"],[0.7777777777777778,\"#fb9f3a\"],[0.8888888888888888,\"#fdca26\"],[1.0,\"#f0f921\"]],\"type\":\"surface\"}],\"table\":[{\"cells\":{\"fill\":{\"color\":\"#EBF0F8\"},\"line\":{\"color\":\"white\"}},\"header\":{\"fill\":{\"color\":\"#C8D4E3\"},\"line\":{\"color\":\"white\"}},\"type\":\"table\"}]},\"layout\":{\"annotationdefaults\":{\"arrowcolor\":\"#2a3f5f\",\"arrowhead\":0,\"arrowwidth\":1},\"autotypenumbers\":\"strict\",\"coloraxis\":{\"colorbar\":{\"outlinewidth\":0,\"ticks\":\"\"}},\"colorscale\":{\"diverging\":[[0,\"#8e0152\"],[0.1,\"#c51b7d\"],[0.2,\"#de77ae\"],[0.3,\"#f1b6da\"],[0.4,\"#fde0ef\"],[0.5,\"#f7f7f7\"],[0.6,\"#e6f5d0\"],[0.7,\"#b8e186\"],[0.8,\"#7fbc41\"],[0.9,\"#4d9221\"],[1,\"#276419\"]],\"sequential\":[[0.0,\"#0d0887\"],[0.1111111111111111,\"#46039f\"],[0.2222222222222222,\"#7201a8\"],[0.3333333333333333,\"#9c179e\"],[0.4444444444444444,\"#bd3786\"],[0.5555555555555556,\"#d8576b\"],[0.6666666666666666,\"#ed7953\"],[0.7777777777777778,\"#fb9f3a\"],[0.8888888888888888,\"#fdca26\"],[1.0,\"#f0f921\"]],\"sequentialminus\":[[0.0,\"#0d0887\"],[0.1111111111111111,\"#46039f\"],[0.2222222222222222,\"#7201a8\"],[0.3333333333333333,\"#9c179e\"],[0.4444444444444444,\"#bd3786\"],[0.5555555555555556,\"#d8576b\"],[0.6666666666666666,\"#ed7953\"],[0.7777777777777778,\"#fb9f3a\"],[0.8888888888888888,\"#fdca26\"],[1.0,\"#f0f921\"]]},\"colorway\":[\"#636efa\",\"#EF553B\",\"#00cc96\",\"#ab63fa\",\"#FFA15A\",\"#19d3f3\",\"#FF6692\",\"#B6E880\",\"#FF97FF\",\"#FECB52\"],\"font\":{\"color\":\"#2a3f5f\"},\"geo\":{\"bgcolor\":\"white\",\"lakecolor\":\"white\",\"landcolor\":\"white\",\"showlakes\":true,\"showland\":true,\"subunitcolor\":\"#C8D4E3\"},\"hoverlabel\":{\"align\":\"left\"},\"hovermode\":\"closest\",\"mapbox\":{\"style\":\"light\"},\"paper_bgcolor\":\"white\",\"plot_bgcolor\":\"white\",\"polar\":{\"angularaxis\":{\"gridcolor\":\"#EBF0F8\",\"linecolor\":\"#EBF0F8\",\"ticks\":\"\"},\"bgcolor\":\"white\",\"radialaxis\":{\"gridcolor\":\"#EBF0F8\",\"linecolor\":\"#EBF0F8\",\"ticks\":\"\"}},\"scene\":{\"xaxis\":{\"backgroundcolor\":\"white\",\"gridcolor\":\"#DFE8F3\",\"gridwidth\":2,\"linecolor\":\"#EBF0F8\",\"showbackground\":true,\"ticks\":\"\",\"zerolinecolor\":\"#EBF0F8\"},\"yaxis\":{\"backgroundcolor\":\"white\",\"gridcolor\":\"#DFE8F3\",\"gridwidth\":2,\"linecolor\":\"#EBF0F8\",\"showbackground\":true,\"ticks\":\"\",\"zerolinecolor\":\"#EBF0F8\"},\"zaxis\":{\"backgroundcolor\":\"white\",\"gridcolor\":\"#DFE8F3\",\"gridwidth\":2,\"linecolor\":\"#EBF0F8\",\"showbackground\":true,\"ticks\":\"\",\"zerolinecolor\":\"#EBF0F8\"}},\"shapedefaults\":{\"line\":{\"color\":\"#2a3f5f\"}},\"ternary\":{\"aaxis\":{\"gridcolor\":\"#DFE8F3\",\"linecolor\":\"#A2B1C6\",\"ticks\":\"\"},\"baxis\":{\"gridcolor\":\"#DFE8F3\",\"linecolor\":\"#A2B1C6\",\"ticks\":\"\"},\"bgcolor\":\"white\",\"caxis\":{\"gridcolor\":\"#DFE8F3\",\"linecolor\":\"#A2B1C6\",\"ticks\":\"\"}},\"title\":{\"x\":0.05},\"xaxis\":{\"automargin\":true,\"gridcolor\":\"#EBF0F8\",\"linecolor\":\"#EBF0F8\",\"ticks\":\"\",\"title\":{\"standoff\":15},\"zerolinecolor\":\"#EBF0F8\",\"zerolinewidth\":2},\"yaxis\":{\"automargin\":true,\"gridcolor\":\"#EBF0F8\",\"linecolor\":\"#EBF0F8\",\"ticks\":\"\",\"title\":{\"standoff\":15},\"zerolinecolor\":\"#EBF0F8\",\"zerolinewidth\":2}}},\"width\":1000,\"xaxis\":{\"showgrid\":true,\"title\":{\"text\":\"Decade of Discovery\"}},\"yaxis\":{\"showgrid\":true,\"title\":{\"text\":\"Number of Exoplanets Discovered\"}},\"title\":{\"text\":\"Number of planets discovered per decade\"}},                        {\"responsive\": true}                    ).then(function(){\n",
       "                            \n",
       "var gd = document.getElementById('442bb148-2f8a-429e-87d3-a3ca6b2934b4');\n",
       "var x = new MutationObserver(function (mutations, observer) {{\n",
       "        var display = window.getComputedStyle(gd).display;\n",
       "        if (!display || display === 'none') {{\n",
       "            console.log([gd, 'removed!']);\n",
       "            Plotly.purge(gd);\n",
       "            observer.disconnect();\n",
       "        }}\n",
       "}});\n",
       "\n",
       "// Listen for the removal of the full notebook cells\n",
       "var notebookContainer = gd.closest('#notebook-container');\n",
       "if (notebookContainer) {{\n",
       "    x.observe(notebookContainer, {childList: true});\n",
       "}}\n",
       "\n",
       "// Listen for the clearing of the current output cell\n",
       "var outputEl = gd.closest('.output');\n",
       "if (outputEl) {{\n",
       "    x.observe(outputEl, {childList: true});\n",
       "}}\n",
       "\n",
       "                        })                };                });            </script>        </div>"
      ]
     },
     "metadata": {},
     "output_type": "display_data"
    }
   ],
   "source": [
    "# plot the data\n",
    "fig = go.Figure(layout={'template' : 'plotly_white',\n",
    "                        #'plot_bgcolor' : 'white',\n",
    "                        'xaxis':{'title':'Decade of Discovery', 'showgrid' : True},\n",
    "                        'yaxis':{'title':'Number of Exoplanets Discovered', 'showgrid' : True},\n",
    "                        'width' : 1000,\n",
    "                        'height' : 600,\n",
    "                        'legend' : {'title' : 'Discovery Method'}\n",
    "                        })\n",
    "\n",
    "for i in method_by_year:\n",
    "    fig = fig.add_trace(go.Bar(x = method_by_year[i][\"decade_of_discovery\"],\n",
    "                                   y = method_by_year[i][\"pl_name\"], \n",
    "                                   name = i))\n",
    "fig.update_layout(title='Number of planets discovered per decade')\n",
    "fig.show()"
   ]
  },
  {
   "cell_type": "markdown",
   "id": "a3afe314-c98c-4da8-82f7-7914d9d906ae",
   "metadata": {},
   "source": [
    "We see that most fruitful decade was 2010s with transit and radial velocity measurements methods of discovery of exoplanets."
   ]
  },
  {
   "cell_type": "markdown",
   "id": "2b48f527-9ea0-43ea-8319-6d8f5f00e63a",
   "metadata": {},
   "source": [
    "# Exoplanet population exploration"
   ]
  },
  {
   "cell_type": "code",
   "execution_count": 44,
   "id": "44e911d0-e28d-4de7-8878-7a4393416cce",
   "metadata": {},
   "outputs": [],
   "source": [
    "# this make table below aligned to left, when uncomented\n",
    "# %%html\n",
    "# <style>\n",
    "# table {float:left}\n",
    "# </style>"
   ]
  },
  {
   "cell_type": "markdown",
   "id": "d3656cd2-e7c9-444c-a697-d735060bf724",
   "metadata": {},
   "source": [
    "<!-- | --- | Small Rocky | Rocky | Super-Earth | Sub-Neptunes | Sub-Jovians | Jovians |\n",
    "| -- | --- | --- | --- | --- | --- | --- |\n",
    "|Planet radii in units of Earth radii $$R_{Earth}$$| $$R < 0.5 R_{Earth}$$ | $$ 0.6 R_{Earth} \\leq R \\leq 1.0 R_{Earth} $$ | $$ 1.0 R_{Earth} < R \\leq 1.75 R_{Earth} $$ | $$ 1.75 R_{Earth} \\leq R < 3.5 R_{Earth} $$ | $$ 3.5 R_{Earth} \\leq R < 6.0 R_{Earth}  $$ | $$ R > 6.0 R_{Earth}$$ | -->"
   ]
  },
  {
   "cell_type": "markdown",
   "id": "68878f3b-ef46-47d6-a50a-353a059b1cf9",
   "metadata": {},
   "source": [
    "<font size = '5'> Simple exoplanets classification </font>\n",
    "<font size = '5'> (after: http://dx.doi.org/10.3847/1538-4357/aab205) </font>"
   ]
  },
  {
   "cell_type": "markdown",
   "id": "ef2c8304-7c5b-44a7-9b88-35a9c8a1da4f",
   "metadata": {},
   "source": [
    "<!-- | --- | Small Rocky | Rocky | Super-Earth | Sub-Neptunes | Sub-Jovians | Jovians |\n",
    "| --- | --- | --- | --- | --- | --- | --- |\n",
    "|Planet radii in units of Earth radii $$R_{Earth}$$| $$R < 0.5$$ | $$ 0.6 \\leq R \\leq 1.0$$ | $$ 1.0 < R \\leq 1.75$$ | $$ 1.75 \\leq R < 3.5$$ | $$ 3.5 \\leq R < 6.0$$ | $$ R > 6.0$$ |<font size = '5'> First discovered rocky Earth size exoplanet </font> -->"
   ]
  },
  {
   "cell_type": "markdown",
   "id": "c220ed37-5a25-433d-8bec-8d36ebcd6060",
   "metadata": {},
   "source": [
    "| --- | Terrestial | Super-Earth | Sub-Neptune | Sub-Jovian | Jovian |\n",
    "| --- | --- | --- | --- | --- | --- |\n",
    "|Planet radii in units of Earth radii $$R_{Earth}$$| $$R \\leq 1.0$$ | $$ 1.0 < R \\leq 1.75$$ | $$ 1.75 \\leq R < 3.5$$ | $$ 3.5 \\leq R < 6.0$$ | $$ R > 6.0$$ |"
   ]
  },
  {
   "cell_type": "markdown",
   "id": "e25be3c4-ce6f-4ee0-9978-7904c280fbf2",
   "metadata": {},
   "source": [
    "Above classification is slightly simplified since we merged rocky and small rocky planets categories together. At the level of conducted analysis distinction between them is irrelevant. Moreover, number of small rocky planets is much smaller than rocky planets therefore they will not distort significantly statistics for rocky worlds."
   ]
  },
  {
   "cell_type": "code",
   "execution_count": 45,
   "id": "b959d957-08fb-4222-a746-9f08f5deeb67",
   "metadata": {},
   "outputs": [],
   "source": [
    "no_small_rocky = df_Exoplanet_restrict[df_Exoplanet_restrict['pl_rade'] < 0.5].count()[0]\n",
    "no_terrestial = df_Exoplanet_restrict[df_Exoplanet_restrict['pl_rade'] <= 1.0].count()[0]\n",
    "no_rocky = no_terrestial - no_small_rocky"
   ]
  },
  {
   "cell_type": "code",
   "execution_count": 46,
   "id": "c67ae00b-15d2-49b9-86a4-3f7c0ab24c60",
   "metadata": {},
   "outputs": [
    {
     "name": "stdout",
     "output_type": "stream",
     "text": [
      "No. of small rocky planets 5\n",
      "No. of rocky planets 186\n"
     ]
    }
   ],
   "source": [
    "print(f\"No. of small rocky planets {no_small_rocky}\")\n",
    "print(f\"No. of rocky planets {no_rocky}\")"
   ]
  },
  {
   "cell_type": "code",
   "execution_count": 47,
   "id": "34e6f7bf-ed9d-4e95-a2cb-35804be99c9d",
   "metadata": {},
   "outputs": [],
   "source": [
    "discovery_decade = df_Exoplanet_restrict['decade_of_discovery'].unique()"
   ]
  },
  {
   "cell_type": "code",
   "execution_count": 48,
   "id": "f18b5e91-eb57-465a-ac9b-c39854f3582d",
   "metadata": {},
   "outputs": [],
   "source": [
    "#discovery_decade"
   ]
  },
  {
   "cell_type": "code",
   "execution_count": 49,
   "id": "f5eda9da-2d9e-4aca-b79d-a65def725f94",
   "metadata": {},
   "outputs": [],
   "source": [
    "planet_by_decade = {}\n",
    "for i,item in enumerate(discovery_decade):\n",
    "    planet_by_decade[item] = df_Exoplanet_restrict.groupby(['decade_of_discovery', 'pl_type']).count().loc[discovery_decade[i]]['pl_name'].reset_index()\n"
   ]
  },
  {
   "cell_type": "code",
   "execution_count": 50,
   "id": "33216535-0474-4cfc-b67d-53ff3d667592",
   "metadata": {},
   "outputs": [],
   "source": [
    "#planet_by_decade"
   ]
  },
  {
   "cell_type": "code",
   "execution_count": 51,
   "id": "0934920a-c928-4fc2-9205-a31cb19e967c",
   "metadata": {
    "tags": []
   },
   "outputs": [
    {
     "data": {
      "application/vnd.plotly.v1+json": {
       "config": {
        "plotlyServerURL": "https://plot.ly"
       },
       "data": [
        {
         "name": "2000s",
         "type": "bar",
         "x": [
          "Jovian",
          "Sub-Jovian",
          "Sub-Neptune",
          "Super-Earth"
         ],
         "y": [
          316,
          19,
          18,
          2
         ]
        },
        {
         "name": "1990s",
         "type": "bar",
         "x": [
          "Jovian"
         ],
         "y": [
          27
         ]
        },
        {
         "name": "2020s",
         "type": "bar",
         "x": [
          "Jovian",
          "Sub-Jovian",
          "Sub-Neptune",
          "Super-Earth",
          "Terrestrial"
         ],
         "y": [
          165,
          72,
          337,
          166,
          22
         ]
        },
        {
         "name": "2010s",
         "type": "bar",
         "x": [
          "Jovian",
          "Sub-Jovian",
          "Sub-Neptune",
          "Super-Earth",
          "Terrestrial"
         ],
         "y": [
          832,
          255,
          1415,
          860,
          169
         ]
        },
        {
         "name": "1980s",
         "type": "bar",
         "x": [
          "Jovian"
         ],
         "y": [
          1
         ]
        }
       ],
       "layout": {
        "height": 600,
        "legend": {
         "title": {
          "text": "Decades"
         }
        },
        "template": {
         "data": {
          "bar": [
           {
            "error_x": {
             "color": "#2a3f5f"
            },
            "error_y": {
             "color": "#2a3f5f"
            },
            "marker": {
             "line": {
              "color": "white",
              "width": 0.5
             },
             "pattern": {
              "fillmode": "overlay",
              "size": 10,
              "solidity": 0.2
             }
            },
            "type": "bar"
           }
          ],
          "barpolar": [
           {
            "marker": {
             "line": {
              "color": "white",
              "width": 0.5
             },
             "pattern": {
              "fillmode": "overlay",
              "size": 10,
              "solidity": 0.2
             }
            },
            "type": "barpolar"
           }
          ],
          "carpet": [
           {
            "aaxis": {
             "endlinecolor": "#2a3f5f",
             "gridcolor": "#C8D4E3",
             "linecolor": "#C8D4E3",
             "minorgridcolor": "#C8D4E3",
             "startlinecolor": "#2a3f5f"
            },
            "baxis": {
             "endlinecolor": "#2a3f5f",
             "gridcolor": "#C8D4E3",
             "linecolor": "#C8D4E3",
             "minorgridcolor": "#C8D4E3",
             "startlinecolor": "#2a3f5f"
            },
            "type": "carpet"
           }
          ],
          "choropleth": [
           {
            "colorbar": {
             "outlinewidth": 0,
             "ticks": ""
            },
            "type": "choropleth"
           }
          ],
          "contour": [
           {
            "colorbar": {
             "outlinewidth": 0,
             "ticks": ""
            },
            "colorscale": [
             [
              0,
              "#0d0887"
             ],
             [
              0.1111111111111111,
              "#46039f"
             ],
             [
              0.2222222222222222,
              "#7201a8"
             ],
             [
              0.3333333333333333,
              "#9c179e"
             ],
             [
              0.4444444444444444,
              "#bd3786"
             ],
             [
              0.5555555555555556,
              "#d8576b"
             ],
             [
              0.6666666666666666,
              "#ed7953"
             ],
             [
              0.7777777777777778,
              "#fb9f3a"
             ],
             [
              0.8888888888888888,
              "#fdca26"
             ],
             [
              1,
              "#f0f921"
             ]
            ],
            "type": "contour"
           }
          ],
          "contourcarpet": [
           {
            "colorbar": {
             "outlinewidth": 0,
             "ticks": ""
            },
            "type": "contourcarpet"
           }
          ],
          "heatmap": [
           {
            "colorbar": {
             "outlinewidth": 0,
             "ticks": ""
            },
            "colorscale": [
             [
              0,
              "#0d0887"
             ],
             [
              0.1111111111111111,
              "#46039f"
             ],
             [
              0.2222222222222222,
              "#7201a8"
             ],
             [
              0.3333333333333333,
              "#9c179e"
             ],
             [
              0.4444444444444444,
              "#bd3786"
             ],
             [
              0.5555555555555556,
              "#d8576b"
             ],
             [
              0.6666666666666666,
              "#ed7953"
             ],
             [
              0.7777777777777778,
              "#fb9f3a"
             ],
             [
              0.8888888888888888,
              "#fdca26"
             ],
             [
              1,
              "#f0f921"
             ]
            ],
            "type": "heatmap"
           }
          ],
          "heatmapgl": [
           {
            "colorbar": {
             "outlinewidth": 0,
             "ticks": ""
            },
            "colorscale": [
             [
              0,
              "#0d0887"
             ],
             [
              0.1111111111111111,
              "#46039f"
             ],
             [
              0.2222222222222222,
              "#7201a8"
             ],
             [
              0.3333333333333333,
              "#9c179e"
             ],
             [
              0.4444444444444444,
              "#bd3786"
             ],
             [
              0.5555555555555556,
              "#d8576b"
             ],
             [
              0.6666666666666666,
              "#ed7953"
             ],
             [
              0.7777777777777778,
              "#fb9f3a"
             ],
             [
              0.8888888888888888,
              "#fdca26"
             ],
             [
              1,
              "#f0f921"
             ]
            ],
            "type": "heatmapgl"
           }
          ],
          "histogram": [
           {
            "marker": {
             "pattern": {
              "fillmode": "overlay",
              "size": 10,
              "solidity": 0.2
             }
            },
            "type": "histogram"
           }
          ],
          "histogram2d": [
           {
            "colorbar": {
             "outlinewidth": 0,
             "ticks": ""
            },
            "colorscale": [
             [
              0,
              "#0d0887"
             ],
             [
              0.1111111111111111,
              "#46039f"
             ],
             [
              0.2222222222222222,
              "#7201a8"
             ],
             [
              0.3333333333333333,
              "#9c179e"
             ],
             [
              0.4444444444444444,
              "#bd3786"
             ],
             [
              0.5555555555555556,
              "#d8576b"
             ],
             [
              0.6666666666666666,
              "#ed7953"
             ],
             [
              0.7777777777777778,
              "#fb9f3a"
             ],
             [
              0.8888888888888888,
              "#fdca26"
             ],
             [
              1,
              "#f0f921"
             ]
            ],
            "type": "histogram2d"
           }
          ],
          "histogram2dcontour": [
           {
            "colorbar": {
             "outlinewidth": 0,
             "ticks": ""
            },
            "colorscale": [
             [
              0,
              "#0d0887"
             ],
             [
              0.1111111111111111,
              "#46039f"
             ],
             [
              0.2222222222222222,
              "#7201a8"
             ],
             [
              0.3333333333333333,
              "#9c179e"
             ],
             [
              0.4444444444444444,
              "#bd3786"
             ],
             [
              0.5555555555555556,
              "#d8576b"
             ],
             [
              0.6666666666666666,
              "#ed7953"
             ],
             [
              0.7777777777777778,
              "#fb9f3a"
             ],
             [
              0.8888888888888888,
              "#fdca26"
             ],
             [
              1,
              "#f0f921"
             ]
            ],
            "type": "histogram2dcontour"
           }
          ],
          "mesh3d": [
           {
            "colorbar": {
             "outlinewidth": 0,
             "ticks": ""
            },
            "type": "mesh3d"
           }
          ],
          "parcoords": [
           {
            "line": {
             "colorbar": {
              "outlinewidth": 0,
              "ticks": ""
             }
            },
            "type": "parcoords"
           }
          ],
          "pie": [
           {
            "automargin": true,
            "type": "pie"
           }
          ],
          "scatter": [
           {
            "marker": {
             "colorbar": {
              "outlinewidth": 0,
              "ticks": ""
             }
            },
            "type": "scatter"
           }
          ],
          "scatter3d": [
           {
            "line": {
             "colorbar": {
              "outlinewidth": 0,
              "ticks": ""
             }
            },
            "marker": {
             "colorbar": {
              "outlinewidth": 0,
              "ticks": ""
             }
            },
            "type": "scatter3d"
           }
          ],
          "scattercarpet": [
           {
            "marker": {
             "colorbar": {
              "outlinewidth": 0,
              "ticks": ""
             }
            },
            "type": "scattercarpet"
           }
          ],
          "scattergeo": [
           {
            "marker": {
             "colorbar": {
              "outlinewidth": 0,
              "ticks": ""
             }
            },
            "type": "scattergeo"
           }
          ],
          "scattergl": [
           {
            "marker": {
             "colorbar": {
              "outlinewidth": 0,
              "ticks": ""
             }
            },
            "type": "scattergl"
           }
          ],
          "scattermapbox": [
           {
            "marker": {
             "colorbar": {
              "outlinewidth": 0,
              "ticks": ""
             }
            },
            "type": "scattermapbox"
           }
          ],
          "scatterpolar": [
           {
            "marker": {
             "colorbar": {
              "outlinewidth": 0,
              "ticks": ""
             }
            },
            "type": "scatterpolar"
           }
          ],
          "scatterpolargl": [
           {
            "marker": {
             "colorbar": {
              "outlinewidth": 0,
              "ticks": ""
             }
            },
            "type": "scatterpolargl"
           }
          ],
          "scatterternary": [
           {
            "marker": {
             "colorbar": {
              "outlinewidth": 0,
              "ticks": ""
             }
            },
            "type": "scatterternary"
           }
          ],
          "surface": [
           {
            "colorbar": {
             "outlinewidth": 0,
             "ticks": ""
            },
            "colorscale": [
             [
              0,
              "#0d0887"
             ],
             [
              0.1111111111111111,
              "#46039f"
             ],
             [
              0.2222222222222222,
              "#7201a8"
             ],
             [
              0.3333333333333333,
              "#9c179e"
             ],
             [
              0.4444444444444444,
              "#bd3786"
             ],
             [
              0.5555555555555556,
              "#d8576b"
             ],
             [
              0.6666666666666666,
              "#ed7953"
             ],
             [
              0.7777777777777778,
              "#fb9f3a"
             ],
             [
              0.8888888888888888,
              "#fdca26"
             ],
             [
              1,
              "#f0f921"
             ]
            ],
            "type": "surface"
           }
          ],
          "table": [
           {
            "cells": {
             "fill": {
              "color": "#EBF0F8"
             },
             "line": {
              "color": "white"
             }
            },
            "header": {
             "fill": {
              "color": "#C8D4E3"
             },
             "line": {
              "color": "white"
             }
            },
            "type": "table"
           }
          ]
         },
         "layout": {
          "annotationdefaults": {
           "arrowcolor": "#2a3f5f",
           "arrowhead": 0,
           "arrowwidth": 1
          },
          "autotypenumbers": "strict",
          "coloraxis": {
           "colorbar": {
            "outlinewidth": 0,
            "ticks": ""
           }
          },
          "colorscale": {
           "diverging": [
            [
             0,
             "#8e0152"
            ],
            [
             0.1,
             "#c51b7d"
            ],
            [
             0.2,
             "#de77ae"
            ],
            [
             0.3,
             "#f1b6da"
            ],
            [
             0.4,
             "#fde0ef"
            ],
            [
             0.5,
             "#f7f7f7"
            ],
            [
             0.6,
             "#e6f5d0"
            ],
            [
             0.7,
             "#b8e186"
            ],
            [
             0.8,
             "#7fbc41"
            ],
            [
             0.9,
             "#4d9221"
            ],
            [
             1,
             "#276419"
            ]
           ],
           "sequential": [
            [
             0,
             "#0d0887"
            ],
            [
             0.1111111111111111,
             "#46039f"
            ],
            [
             0.2222222222222222,
             "#7201a8"
            ],
            [
             0.3333333333333333,
             "#9c179e"
            ],
            [
             0.4444444444444444,
             "#bd3786"
            ],
            [
             0.5555555555555556,
             "#d8576b"
            ],
            [
             0.6666666666666666,
             "#ed7953"
            ],
            [
             0.7777777777777778,
             "#fb9f3a"
            ],
            [
             0.8888888888888888,
             "#fdca26"
            ],
            [
             1,
             "#f0f921"
            ]
           ],
           "sequentialminus": [
            [
             0,
             "#0d0887"
            ],
            [
             0.1111111111111111,
             "#46039f"
            ],
            [
             0.2222222222222222,
             "#7201a8"
            ],
            [
             0.3333333333333333,
             "#9c179e"
            ],
            [
             0.4444444444444444,
             "#bd3786"
            ],
            [
             0.5555555555555556,
             "#d8576b"
            ],
            [
             0.6666666666666666,
             "#ed7953"
            ],
            [
             0.7777777777777778,
             "#fb9f3a"
            ],
            [
             0.8888888888888888,
             "#fdca26"
            ],
            [
             1,
             "#f0f921"
            ]
           ]
          },
          "colorway": [
           "#636efa",
           "#EF553B",
           "#00cc96",
           "#ab63fa",
           "#FFA15A",
           "#19d3f3",
           "#FF6692",
           "#B6E880",
           "#FF97FF",
           "#FECB52"
          ],
          "font": {
           "color": "#2a3f5f"
          },
          "geo": {
           "bgcolor": "white",
           "lakecolor": "white",
           "landcolor": "white",
           "showlakes": true,
           "showland": true,
           "subunitcolor": "#C8D4E3"
          },
          "hoverlabel": {
           "align": "left"
          },
          "hovermode": "closest",
          "mapbox": {
           "style": "light"
          },
          "paper_bgcolor": "white",
          "plot_bgcolor": "white",
          "polar": {
           "angularaxis": {
            "gridcolor": "#EBF0F8",
            "linecolor": "#EBF0F8",
            "ticks": ""
           },
           "bgcolor": "white",
           "radialaxis": {
            "gridcolor": "#EBF0F8",
            "linecolor": "#EBF0F8",
            "ticks": ""
           }
          },
          "scene": {
           "xaxis": {
            "backgroundcolor": "white",
            "gridcolor": "#DFE8F3",
            "gridwidth": 2,
            "linecolor": "#EBF0F8",
            "showbackground": true,
            "ticks": "",
            "zerolinecolor": "#EBF0F8"
           },
           "yaxis": {
            "backgroundcolor": "white",
            "gridcolor": "#DFE8F3",
            "gridwidth": 2,
            "linecolor": "#EBF0F8",
            "showbackground": true,
            "ticks": "",
            "zerolinecolor": "#EBF0F8"
           },
           "zaxis": {
            "backgroundcolor": "white",
            "gridcolor": "#DFE8F3",
            "gridwidth": 2,
            "linecolor": "#EBF0F8",
            "showbackground": true,
            "ticks": "",
            "zerolinecolor": "#EBF0F8"
           }
          },
          "shapedefaults": {
           "line": {
            "color": "#2a3f5f"
           }
          },
          "ternary": {
           "aaxis": {
            "gridcolor": "#DFE8F3",
            "linecolor": "#A2B1C6",
            "ticks": ""
           },
           "baxis": {
            "gridcolor": "#DFE8F3",
            "linecolor": "#A2B1C6",
            "ticks": ""
           },
           "bgcolor": "white",
           "caxis": {
            "gridcolor": "#DFE8F3",
            "linecolor": "#A2B1C6",
            "ticks": ""
           }
          },
          "title": {
           "x": 0.05
          },
          "xaxis": {
           "automargin": true,
           "gridcolor": "#EBF0F8",
           "linecolor": "#EBF0F8",
           "ticks": "",
           "title": {
            "standoff": 15
           },
           "zerolinecolor": "#EBF0F8",
           "zerolinewidth": 2
          },
          "yaxis": {
           "automargin": true,
           "gridcolor": "#EBF0F8",
           "linecolor": "#EBF0F8",
           "ticks": "",
           "title": {
            "standoff": 15
           },
           "zerolinecolor": "#EBF0F8",
           "zerolinewidth": 2
          }
         }
        },
        "title": {
         "text": "Number of planets discovered per planet type"
        },
        "width": 1000,
        "xaxis": {
         "autorange": true,
         "range": [
          -0.5,
          4.5
         ],
         "showgrid": true,
         "title": {
          "text": "Planet Type"
         },
         "type": "category"
        },
        "yaxis": {
         "autorange": true,
         "range": [
          0,
          1489.4736842105262
         ],
         "showgrid": true,
         "title": {
          "text": "Number of Exoplanets discovered"
         },
         "type": "linear"
        }
       }
      },
      "image/png": "[encoded data removed]",
      "text/html": [
       "<div>                            <div id=\"3d6c7cab-060e-4f81-a797-c4a73f427605\" class=\"plotly-graph-div\" style=\"height:600px; width:1000px;\"></div>            <script type=\"text/javascript\">                require([\"plotly\"], function(Plotly) {                    window.PLOTLYENV=window.PLOTLYENV || {};                                    if (document.getElementById(\"3d6c7cab-060e-4f81-a797-c4a73f427605\")) {                    Plotly.newPlot(                        \"3d6c7cab-060e-4f81-a797-c4a73f427605\",                        [{\"name\":\"2000s\",\"x\":[\"Jovian\",\"Sub-Jovian\",\"Sub-Neptune\",\"Super-Earth\"],\"y\":[316,19,18,2],\"type\":\"bar\"},{\"name\":\"1990s\",\"x\":[\"Jovian\"],\"y\":[27],\"type\":\"bar\"},{\"name\":\"2020s\",\"x\":[\"Jovian\",\"Sub-Jovian\",\"Sub-Neptune\",\"Super-Earth\",\"Terrestrial\"],\"y\":[165,72,337,166,22],\"type\":\"bar\"},{\"name\":\"2010s\",\"x\":[\"Jovian\",\"Sub-Jovian\",\"Sub-Neptune\",\"Super-Earth\",\"Terrestrial\"],\"y\":[832,255,1415,860,169],\"type\":\"bar\"},{\"name\":\"1980s\",\"x\":[\"Jovian\"],\"y\":[1],\"type\":\"bar\"}],                        {\"height\":600,\"legend\":{\"title\":{\"text\":\"Decades\"}},\"template\":{\"data\":{\"barpolar\":[{\"marker\":{\"line\":{\"color\":\"white\",\"width\":0.5},\"pattern\":{\"fillmode\":\"overlay\",\"size\":10,\"solidity\":0.2}},\"type\":\"barpolar\"}],\"bar\":[{\"error_x\":{\"color\":\"#2a3f5f\"},\"error_y\":{\"color\":\"#2a3f5f\"},\"marker\":{\"line\":{\"color\":\"white\",\"width\":0.5},\"pattern\":{\"fillmode\":\"overlay\",\"size\":10,\"solidity\":0.2}},\"type\":\"bar\"}],\"carpet\":[{\"aaxis\":{\"endlinecolor\":\"#2a3f5f\",\"gridcolor\":\"#C8D4E3\",\"linecolor\":\"#C8D4E3\",\"minorgridcolor\":\"#C8D4E3\",\"startlinecolor\":\"#2a3f5f\"},\"baxis\":{\"endlinecolor\":\"#2a3f5f\",\"gridcolor\":\"#C8D4E3\",\"linecolor\":\"#C8D4E3\",\"minorgridcolor\":\"#C8D4E3\",\"startlinecolor\":\"#2a3f5f\"},\"type\":\"carpet\"}],\"choropleth\":[{\"colorbar\":{\"outlinewidth\":0,\"ticks\":\"\"},\"type\":\"choropleth\"}],\"contourcarpet\":[{\"colorbar\":{\"outlinewidth\":0,\"ticks\":\"\"},\"type\":\"contourcarpet\"}],\"contour\":[{\"colorbar\":{\"outlinewidth\":0,\"ticks\":\"\"},\"colorscale\":[[0.0,\"#0d0887\"],[0.1111111111111111,\"#46039f\"],[0.2222222222222222,\"#7201a8\"],[0.3333333333333333,\"#9c179e\"],[0.4444444444444444,\"#bd3786\"],[0.5555555555555556,\"#d8576b\"],[0.6666666666666666,\"#ed7953\"],[0.7777777777777778,\"#fb9f3a\"],[0.8888888888888888,\"#fdca26\"],[1.0,\"#f0f921\"]],\"type\":\"contour\"}],\"heatmapgl\":[{\"colorbar\":{\"outlinewidth\":0,\"ticks\":\"\"},\"colorscale\":[[0.0,\"#0d0887\"],[0.1111111111111111,\"#46039f\"],[0.2222222222222222,\"#7201a8\"],[0.3333333333333333,\"#9c179e\"],[0.4444444444444444,\"#bd3786\"],[0.5555555555555556,\"#d8576b\"],[0.6666666666666666,\"#ed7953\"],[0.7777777777777778,\"#fb9f3a\"],[0.8888888888888888,\"#fdca26\"],[1.0,\"#f0f921\"]],\"type\":\"heatmapgl\"}],\"heatmap\":[{\"colorbar\":{\"outlinewidth\":0,\"ticks\":\"\"},\"colorscale\":[[0.0,\"#0d0887\"],[0.1111111111111111,\"#46039f\"],[0.2222222222222222,\"#7201a8\"],[0.3333333333333333,\"#9c179e\"],[0.4444444444444444,\"#bd3786\"],[0.5555555555555556,\"#d8576b\"],[0.6666666666666666,\"#ed7953\"],[0.7777777777777778,\"#fb9f3a\"],[0.8888888888888888,\"#fdca26\"],[1.0,\"#f0f921\"]],\"type\":\"heatmap\"}],\"histogram2dcontour\":[{\"colorbar\":{\"outlinewidth\":0,\"ticks\":\"\"},\"colorscale\":[[0.0,\"#0d0887\"],[0.1111111111111111,\"#46039f\"],[0.2222222222222222,\"#7201a8\"],[0.3333333333333333,\"#9c179e\"],[0.4444444444444444,\"#bd3786\"],[0.5555555555555556,\"#d8576b\"],[0.6666666666666666,\"#ed7953\"],[0.7777777777777778,\"#fb9f3a\"],[0.8888888888888888,\"#fdca26\"],[1.0,\"#f0f921\"]],\"type\":\"histogram2dcontour\"}],\"histogram2d\":[{\"colorbar\":{\"outlinewidth\":0,\"ticks\":\"\"},\"colorscale\":[[0.0,\"#0d0887\"],[0.1111111111111111,\"#46039f\"],[0.2222222222222222,\"#7201a8\"],[0.3333333333333333,\"#9c179e\"],[0.4444444444444444,\"#bd3786\"],[0.5555555555555556,\"#d8576b\"],[0.6666666666666666,\"#ed7953\"],[0.7777777777777778,\"#fb9f3a\"],[0.8888888888888888,\"#fdca26\"],[1.0,\"#f0f921\"]],\"type\":\"histogram2d\"}],\"histogram\":[{\"marker\":{\"pattern\":{\"fillmode\":\"overlay\",\"size\":10,\"solidity\":0.2}},\"type\":\"histogram\"}],\"mesh3d\":[{\"colorbar\":{\"outlinewidth\":0,\"ticks\":\"\"},\"type\":\"mesh3d\"}],\"parcoords\":[{\"line\":{\"colorbar\":{\"outlinewidth\":0,\"ticks\":\"\"}},\"type\":\"parcoords\"}],\"pie\":[{\"automargin\":true,\"type\":\"pie\"}],\"scatter3d\":[{\"line\":{\"colorbar\":{\"outlinewidth\":0,\"ticks\":\"\"}},\"marker\":{\"colorbar\":{\"outlinewidth\":0,\"ticks\":\"\"}},\"type\":\"scatter3d\"}],\"scattercarpet\":[{\"marker\":{\"colorbar\":{\"outlinewidth\":0,\"ticks\":\"\"}},\"type\":\"scattercarpet\"}],\"scattergeo\":[{\"marker\":{\"colorbar\":{\"outlinewidth\":0,\"ticks\":\"\"}},\"type\":\"scattergeo\"}],\"scattergl\":[{\"marker\":{\"colorbar\":{\"outlinewidth\":0,\"ticks\":\"\"}},\"type\":\"scattergl\"}],\"scattermapbox\":[{\"marker\":{\"colorbar\":{\"outlinewidth\":0,\"ticks\":\"\"}},\"type\":\"scattermapbox\"}],\"scatterpolargl\":[{\"marker\":{\"colorbar\":{\"outlinewidth\":0,\"ticks\":\"\"}},\"type\":\"scatterpolargl\"}],\"scatterpolar\":[{\"marker\":{\"colorbar\":{\"outlinewidth\":0,\"ticks\":\"\"}},\"type\":\"scatterpolar\"}],\"scatter\":[{\"marker\":{\"colorbar\":{\"outlinewidth\":0,\"ticks\":\"\"}},\"type\":\"scatter\"}],\"scatterternary\":[{\"marker\":{\"colorbar\":{\"outlinewidth\":0,\"ticks\":\"\"}},\"type\":\"scatterternary\"}],\"surface\":[{\"colorbar\":{\"outlinewidth\":0,\"ticks\":\"\"},\"colorscale\":[[0.0,\"#0d0887\"],[0.1111111111111111,\"#46039f\"],[0.2222222222222222,\"#7201a8\"],[0.3333333333333333,\"#9c179e\"],[0.4444444444444444,\"#bd3786\"],[0.5555555555555556,\"#d8576b\"],[0.6666666666666666,\"#ed7953\"],[0.7777777777777778,\"#fb9f3a\"],[0.8888888888888888,\"#fdca26\"],[1.0,\"#f0f921\"]],\"type\":\"surface\"}],\"table\":[{\"cells\":{\"fill\":{\"color\":\"#EBF0F8\"},\"line\":{\"color\":\"white\"}},\"header\":{\"fill\":{\"color\":\"#C8D4E3\"},\"line\":{\"color\":\"white\"}},\"type\":\"table\"}]},\"layout\":{\"annotationdefaults\":{\"arrowcolor\":\"#2a3f5f\",\"arrowhead\":0,\"arrowwidth\":1},\"autotypenumbers\":\"strict\",\"coloraxis\":{\"colorbar\":{\"outlinewidth\":0,\"ticks\":\"\"}},\"colorscale\":{\"diverging\":[[0,\"#8e0152\"],[0.1,\"#c51b7d\"],[0.2,\"#de77ae\"],[0.3,\"#f1b6da\"],[0.4,\"#fde0ef\"],[0.5,\"#f7f7f7\"],[0.6,\"#e6f5d0\"],[0.7,\"#b8e186\"],[0.8,\"#7fbc41\"],[0.9,\"#4d9221\"],[1,\"#276419\"]],\"sequential\":[[0.0,\"#0d0887\"],[0.1111111111111111,\"#46039f\"],[0.2222222222222222,\"#7201a8\"],[0.3333333333333333,\"#9c179e\"],[0.4444444444444444,\"#bd3786\"],[0.5555555555555556,\"#d8576b\"],[0.6666666666666666,\"#ed7953\"],[0.7777777777777778,\"#fb9f3a\"],[0.8888888888888888,\"#fdca26\"],[1.0,\"#f0f921\"]],\"sequentialminus\":[[0.0,\"#0d0887\"],[0.1111111111111111,\"#46039f\"],[0.2222222222222222,\"#7201a8\"],[0.3333333333333333,\"#9c179e\"],[0.4444444444444444,\"#bd3786\"],[0.5555555555555556,\"#d8576b\"],[0.6666666666666666,\"#ed7953\"],[0.7777777777777778,\"#fb9f3a\"],[0.8888888888888888,\"#fdca26\"],[1.0,\"#f0f921\"]]},\"colorway\":[\"#636efa\",\"#EF553B\",\"#00cc96\",\"#ab63fa\",\"#FFA15A\",\"#19d3f3\",\"#FF6692\",\"#B6E880\",\"#FF97FF\",\"#FECB52\"],\"font\":{\"color\":\"#2a3f5f\"},\"geo\":{\"bgcolor\":\"white\",\"lakecolor\":\"white\",\"landcolor\":\"white\",\"showlakes\":true,\"showland\":true,\"subunitcolor\":\"#C8D4E3\"},\"hoverlabel\":{\"align\":\"left\"},\"hovermode\":\"closest\",\"mapbox\":{\"style\":\"light\"},\"paper_bgcolor\":\"white\",\"plot_bgcolor\":\"white\",\"polar\":{\"angularaxis\":{\"gridcolor\":\"#EBF0F8\",\"linecolor\":\"#EBF0F8\",\"ticks\":\"\"},\"bgcolor\":\"white\",\"radialaxis\":{\"gridcolor\":\"#EBF0F8\",\"linecolor\":\"#EBF0F8\",\"ticks\":\"\"}},\"scene\":{\"xaxis\":{\"backgroundcolor\":\"white\",\"gridcolor\":\"#DFE8F3\",\"gridwidth\":2,\"linecolor\":\"#EBF0F8\",\"showbackground\":true,\"ticks\":\"\",\"zerolinecolor\":\"#EBF0F8\"},\"yaxis\":{\"backgroundcolor\":\"white\",\"gridcolor\":\"#DFE8F3\",\"gridwidth\":2,\"linecolor\":\"#EBF0F8\",\"showbackground\":true,\"ticks\":\"\",\"zerolinecolor\":\"#EBF0F8\"},\"zaxis\":{\"backgroundcolor\":\"white\",\"gridcolor\":\"#DFE8F3\",\"gridwidth\":2,\"linecolor\":\"#EBF0F8\",\"showbackground\":true,\"ticks\":\"\",\"zerolinecolor\":\"#EBF0F8\"}},\"shapedefaults\":{\"line\":{\"color\":\"#2a3f5f\"}},\"ternary\":{\"aaxis\":{\"gridcolor\":\"#DFE8F3\",\"linecolor\":\"#A2B1C6\",\"ticks\":\"\"},\"baxis\":{\"gridcolor\":\"#DFE8F3\",\"linecolor\":\"#A2B1C6\",\"ticks\":\"\"},\"bgcolor\":\"white\",\"caxis\":{\"gridcolor\":\"#DFE8F3\",\"linecolor\":\"#A2B1C6\",\"ticks\":\"\"}},\"title\":{\"x\":0.05},\"xaxis\":{\"automargin\":true,\"gridcolor\":\"#EBF0F8\",\"linecolor\":\"#EBF0F8\",\"ticks\":\"\",\"title\":{\"standoff\":15},\"zerolinecolor\":\"#EBF0F8\",\"zerolinewidth\":2},\"yaxis\":{\"automargin\":true,\"gridcolor\":\"#EBF0F8\",\"linecolor\":\"#EBF0F8\",\"ticks\":\"\",\"title\":{\"standoff\":15},\"zerolinecolor\":\"#EBF0F8\",\"zerolinewidth\":2}}},\"width\":1000,\"xaxis\":{\"showgrid\":true,\"title\":{\"text\":\"Planet Type\"}},\"yaxis\":{\"showgrid\":true,\"title\":{\"text\":\"Number of Exoplanets discovered\"}},\"title\":{\"text\":\"Number of planets discovered per planet type\"}},                        {\"responsive\": true}                    ).then(function(){\n",
       "                            \n",
       "var gd = document.getElementById('3d6c7cab-060e-4f81-a797-c4a73f427605');\n",
       "var x = new MutationObserver(function (mutations, observer) {{\n",
       "        var display = window.getComputedStyle(gd).display;\n",
       "        if (!display || display === 'none') {{\n",
       "            console.log([gd, 'removed!']);\n",
       "            Plotly.purge(gd);\n",
       "            observer.disconnect();\n",
       "        }}\n",
       "}});\n",
       "\n",
       "// Listen for the removal of the full notebook cells\n",
       "var notebookContainer = gd.closest('#notebook-container');\n",
       "if (notebookContainer) {{\n",
       "    x.observe(notebookContainer, {childList: true});\n",
       "}}\n",
       "\n",
       "// Listen for the clearing of the current output cell\n",
       "var outputEl = gd.closest('.output');\n",
       "if (outputEl) {{\n",
       "    x.observe(outputEl, {childList: true});\n",
       "}}\n",
       "\n",
       "                        })                };                });            </script>        </div>"
      ]
     },
     "metadata": {},
     "output_type": "display_data"
    }
   ],
   "source": [
    "# plot the data\n",
    "fig2 = go.Figure(layout={'template' : 'plotly_white',\n",
    "                        #'plot_bgcolor' : 'white',\n",
    "                        'xaxis':{'title':'Planet Type', 'showgrid' : True},\n",
    "                        'yaxis':{'title':'Number of Exoplanets discovered', 'showgrid' : True},\n",
    "                        'width' : 1000,\n",
    "                        'height' : 600,\n",
    "                        'legend' : {'title' : 'Decades'}\n",
    "                        })\n",
    "\n",
    "for i in planet_by_decade:\n",
    "    fig2 = fig2.add_trace(go.Bar(x = planet_by_decade[i][\"pl_type\"],\n",
    "                                   y = planet_by_decade[i][\"pl_name\"],\n",
    "                                # text = planet_by_decade[i]['descritive_planet_size'],\n",
    "                                   name = i))\n",
    "fig2.update_layout(title='Number of planets discovered per planet type')\n",
    "fig2.show()"
   ]
  },
  {
   "cell_type": "code",
   "execution_count": 52,
   "id": "57d743dd-ef96-4f29-ae57-9871bdde716e",
   "metadata": {},
   "outputs": [
    {
     "data": {
      "image/png": "[encoded data removed]",
      "text/plain": [
       "<Figure size 720x432 with 2 Axes>"
      ]
     },
     "metadata": {
      "needs_background": "light"
     },
     "output_type": "display_data"
    }
   ],
   "source": [
    "# number of exoplanets by type\n",
    "_plot_pareto_by(df_Exoplanet_restrict,'pl_type','pl_rade', 'Exoplanets by type')"
   ]
  },
  {
   "cell_type": "markdown",
   "id": "3e2c9e3c-1c3c-4691-b6d8-1742b2a7f522",
   "metadata": {},
   "source": [
    "From the plot of the Pareto diagram above we see that most commons among discovered exoplanets are Sub-Neptunes with Jovians and Super-Earths being second and third respectively. These three categories comprise about 90% of population."
   ]
  },
  {
   "cell_type": "code",
   "execution_count": 53,
   "id": "ddc765fb-f192-4a9f-8370-b2ab7dd06ff6",
   "metadata": {},
   "outputs": [],
   "source": [
    "dataframe_box_plist = [df_Exoplanet_restrict[(df_Exoplanet_restrict['pl_type'].isin(['Jovian'])) &\n",
    "                                    (df_Exoplanet_restrict['pl_rade'] < 25.0)],\n",
    "                  df_Exoplanet_restrict[(df_Exoplanet_restrict['pl_type'].isin(['Sub-Jovian', 'Sub-Neptune']))],\n",
    "                  df_Exoplanet_restrict[(df_Exoplanet_restrict['pl_type'].isin(['Super-Earth', 'Terrestrial']))]\n",
    "                 ]\n",
    "\n",
    "\n",
    "axes_box_plist = ['pl_type', 'pl_rade']"
   ]
  },
  {
   "cell_type": "code",
   "execution_count": 54,
   "id": "33dfb237-c59b-445b-aad4-048c7c284f14",
   "metadata": {},
   "outputs": [
    {
     "data": {
      "image/png": "[encoded data removed]",
      "text/plain": [
       "<Figure size 1296x432 with 3 Axes>"
      ]
     },
     "metadata": {
      "needs_background": "light"
     },
     "output_type": "display_data"
    }
   ],
   "source": [
    "fig_box, axes_box = plt.subplots(nrows = 1, ncols = 3 , figsize=(18,6))\n",
    "\n",
    "for i, item in enumerate(dataframe_box_plist):\n",
    "    sns.boxplot(data = item, x = axes_box_plist[0], y = axes_box_plist[1], color=\"C0\", ax = axes_box[i])\n",
    "    axes_box[i].grid(True)\n",
    "    axes_box[i].set_xlabel('')\n",
    "    axes_box[i].set_ylabel('')\n",
    "\n",
    "\n",
    "\n",
    "fig_box.suptitle(r'Exoplanets radii (in units of $R_{Earth}$) distribution for various categories', fontsize=16)\n",
    "#fig_box.supylabel(r'$R_{Earth}$', fontsize = 16, x = 0.01)\n",
    "\n",
    "plt.tight_layout()\n",
    "plt.show()"
   ]
  },
  {
   "cell_type": "markdown",
   "id": "0111a2bd-3829-4e3b-83b1-852880bc9c3f",
   "metadata": {},
   "source": [
    "Firstly, we see that large number of outliers are in the Jovians category, \n",
    "which is to be expected since this serve as the catch all category \n",
    "for exoplanets with radii bigger than 6 Earth radii. \n",
    "Median of exoplanetary radius for this category is around 13.5 Earth radii. \n",
    "\n",
    "Secondly, we see that for the Super-Earth and the Terrestrial exoplanets median for radii are 1.4 and 0.9 Earth radii respectively.\n",
    "Moreover for the Super-Earth type sizes are evenly distribute in whole range while for the Terrestrial exoplanets 50% of them have radii in range 0.75 - 0.95."
   ]
  },
  {
   "cell_type": "code",
   "execution_count": 55,
   "id": "bd257c29-d159-4da4-86f4-6be0ca55e122",
   "metadata": {},
   "outputs": [],
   "source": [
    "df_to_table_prep = df_Exoplanet_restrict[['sy_snum', 'sy_dist', 'pl_type']].rename( columns = {'pl_type' : 'Exoplanet type'})\n",
    "pt_sy_snum = pd.pivot_table(df_to_table_prep, values = 'sy_dist', index = ['sy_snum'], \n",
    "                       columns = ['Exoplanet type'], aggfunc = { 'sy_dist' : 'count'} )\n",
    "pt_sy_snum.index.rename('No. of stars in system', inplace=True)"
   ]
  },
  {
   "cell_type": "code",
   "execution_count": 56,
   "id": "200fd4d5-f7f5-4a80-89db-7adc4c3b5d89",
   "metadata": {},
   "outputs": [
    {
     "data": {
      "text/html": [
       "<style type=\"text/css\">\n",
       "#T_8bfb3_ caption {\n",
       "  color: black;\n",
       "  font-size: 16px;\n",
       "  font-weight: bold;\n",
       "}\n",
       "#T_8bfb3_row0_col3, #T_8bfb3_row0_col4 {\n",
       "  background-color: #008000;\n",
       "  color: #f1f1f1;\n",
       "}\n",
       "#T_8bfb3_row1_col3 {\n",
       "  background-color: #e0eedf;\n",
       "  color: #000000;\n",
       "}\n",
       "#T_8bfb3_row1_col4 {\n",
       "  background-color: #d9ead9;\n",
       "  color: #000000;\n",
       "}\n",
       "#T_8bfb3_row2_col3, #T_8bfb3_row3_col3, #T_8bfb3_row3_col4 {\n",
       "  background-color: #ebf3eb;\n",
       "  color: #000000;\n",
       "}\n",
       "#T_8bfb3_row2_col4 {\n",
       "  background-color: #e4f0e4;\n",
       "  color: #000000;\n",
       "}\n",
       "</style>\n",
       "<table id=\"T_8bfb3_\">\n",
       "  <caption>Count of systems containing confirmed exoplanets of given type</caption>\n",
       "  <thead>\n",
       "    <tr>\n",
       "      <th class=\"index_name level0\" >Exoplanet type</th>\n",
       "      <th class=\"col_heading level0 col0\" >Jovian</th>\n",
       "      <th class=\"col_heading level0 col1\" >Sub-Jovian</th>\n",
       "      <th class=\"col_heading level0 col2\" >Sub-Neptune</th>\n",
       "      <th class=\"col_heading level0 col3\" >Super-Earth</th>\n",
       "      <th class=\"col_heading level0 col4\" >Terrestrial</th>\n",
       "    </tr>\n",
       "    <tr>\n",
       "      <th class=\"index_name level0\" >No. of stars in system</th>\n",
       "      <th class=\"blank col0\" >&nbsp;</th>\n",
       "      <th class=\"blank col1\" >&nbsp;</th>\n",
       "      <th class=\"blank col2\" >&nbsp;</th>\n",
       "      <th class=\"blank col3\" >&nbsp;</th>\n",
       "      <th class=\"blank col4\" >&nbsp;</th>\n",
       "    </tr>\n",
       "  </thead>\n",
       "  <tbody>\n",
       "    <tr>\n",
       "      <th id=\"T_8bfb3_level0_row0\" class=\"row_heading level0 row0\" >1</th>\n",
       "      <td id=\"T_8bfb3_row0_col0\" class=\"data row0 col0\" >1094</td>\n",
       "      <td id=\"T_8bfb3_row0_col1\" class=\"data row0 col1\" >316</td>\n",
       "      <td id=\"T_8bfb3_row0_col2\" class=\"data row0 col2\" >1707</td>\n",
       "      <td id=\"T_8bfb3_row0_col3\" class=\"data row0 col3\" >978</td>\n",
       "      <td id=\"T_8bfb3_row0_col4\" class=\"data row0 col4\" >173</td>\n",
       "    </tr>\n",
       "    <tr>\n",
       "      <th id=\"T_8bfb3_level0_row1\" class=\"row_heading level0 row1\" >2</th>\n",
       "      <td id=\"T_8bfb3_row1_col0\" class=\"data row1 col0\" >212</td>\n",
       "      <td id=\"T_8bfb3_row1_col1\" class=\"data row1 col1\" >27</td>\n",
       "      <td id=\"T_8bfb3_row1_col2\" class=\"data row1 col2\" >61</td>\n",
       "      <td id=\"T_8bfb3_row1_col3\" class=\"data row1 col3\" >47</td>\n",
       "      <td id=\"T_8bfb3_row1_col4\" class=\"data row1 col4\" >13</td>\n",
       "    </tr>\n",
       "    <tr>\n",
       "      <th id=\"T_8bfb3_level0_row2\" class=\"row_heading level0 row2\" >3</th>\n",
       "      <td id=\"T_8bfb3_row2_col0\" class=\"data row2 col0\" >33</td>\n",
       "      <td id=\"T_8bfb3_row2_col1\" class=\"data row2 col1\" >3</td>\n",
       "      <td id=\"T_8bfb3_row2_col2\" class=\"data row2 col2\" >2</td>\n",
       "      <td id=\"T_8bfb3_row2_col3\" class=\"data row2 col3\" >3</td>\n",
       "      <td id=\"T_8bfb3_row2_col4\" class=\"data row2 col4\" >5</td>\n",
       "    </tr>\n",
       "    <tr>\n",
       "      <th id=\"T_8bfb3_level0_row3\" class=\"row_heading level0 row3\" >4</th>\n",
       "      <td id=\"T_8bfb3_row3_col0\" class=\"data row3 col0\" >2</td>\n",
       "      <td id=\"T_8bfb3_row3_col1\" class=\"data row3 col1\" >0</td>\n",
       "      <td id=\"T_8bfb3_row3_col2\" class=\"data row3 col2\" >0</td>\n",
       "      <td id=\"T_8bfb3_row3_col3\" class=\"data row3 col3\" >0</td>\n",
       "      <td id=\"T_8bfb3_row3_col4\" class=\"data row3 col4\" >0</td>\n",
       "    </tr>\n",
       "  </tbody>\n",
       "</table>\n"
      ],
      "text/plain": [
       "<pandas.io.formats.style.Styler at 0x21715588b80>"
      ]
     },
     "execution_count": 56,
     "metadata": {},
     "output_type": "execute_result"
    }
   ],
   "source": [
    "# Set colormap equal to seaborns light green color palette\n",
    "#cm = sns.light_palette(\"green\", as_cmap=True)\n",
    "# format output for pivot_table\n",
    "pt_sy_snum.fillna(0).style.set_caption('Count of systems containing confirmed exoplanets of given type').set_table_styles([{\n",
    "    'selector': 'caption',\n",
    "    'props': [('color', 'black'), \n",
    "              ('font-size', '16px'),\n",
    "              (\"font-weight\", \"bold\")] } ]).format(precision = 0).background_gradient(cmap=cm, subset=['Terrestrial','Super-Earth'])"
   ]
  },
  {
   "cell_type": "markdown",
   "id": "e8308502-70e6-4ad9-92f4-d28b771e5199",
   "metadata": {},
   "source": [
    "Count of systems containing confirmed exoplanets of given type\n",
    "From the table above we may infer that most of confirmed exoplanets are in the single star systems, yet binary systems also contain non-negligible amount of them. This is especially interesting because stable orbits in such a system are more complicated than in the single star case."
   ]
  },
  {
   "cell_type": "code",
   "execution_count": 57,
   "id": "01b1f001-fd98-484a-8e07-72cc1d5caad7",
   "metadata": {},
   "outputs": [
    {
     "name": "stdout",
     "output_type": "stream",
     "text": [
      "No. of confirmed Terrestrial and Super-Earth type exoplanets in 10 parsec radii: 34\n",
      "No. of confirmed exoplanets in 10 parsec radii: 84\n"
     ]
    }
   ],
   "source": [
    "num_of_rocky_exoplanbet_in_10pc = df_Exoplanet_restrict[((df_Exoplanet_restrict['pl_type'] == 'Terrestrial') | \n",
    "                      (df_Exoplanet_restrict['pl_type'] == 'Super-Earth')) &\n",
    "                     (df_Exoplanet_restrict['sy_dist'] <= 10.0)].count()[0]\n",
    "print(f\"No. of confirmed Terrestrial and Super-Earth type exoplanets in 10 parsec radii: {num_of_rocky_exoplanbet_in_10pc}\")\n",
    "\n",
    "num_of_exoplanbet_in_10pc = df_Exoplanet_restrict[(df_Exoplanet_restrict['sy_dist'] <= 10.0)].count()[0]\n",
    "print(f\"No. of confirmed exoplanets in 10 parsec radii: {num_of_exoplanbet_in_10pc}\")"
   ]
  },
  {
   "cell_type": "code",
   "execution_count": 58,
   "id": "54ae3222-0b0e-4d37-b4bb-4ea098ca0106",
   "metadata": {},
   "outputs": [],
   "source": [
    "#df_Exoplanet_restrict.columns\n",
    "lucky_system_prop = ['pl_name', 'hostname', 'sy_snum', 'sy_pnum', \n",
    "                     'pl_rade', 'pl_orbper',\n",
    "                     'st_rad', 'st_mass',\n",
    "                     'sy_dist', 'pl_type']\n",
    "\n",
    "human_readable_columns = {'pl_name' : 'Exoplanet name', \n",
    "                          'hostname' : 'Star name', \n",
    "                          'sy_snum' : 'Num of stars in system', \n",
    "                          'sy_pnum' : 'Num of confirmed planet in system', \n",
    "                          'pl_rade' : 'Exoplanet radii (in Earth radii)', \n",
    "                          'st_rad' : 'Star radii (in Solar radii)', \n",
    "                          'st_mass' : 'Star mass (in Solar masses)', \n",
    "                          'sy_dist' : 'Distance from Earth in pc', \n",
    "                          'pl_type' : 'Exoplanet type', \n",
    "                          'pl_orbper' : 'Orbital period in days'}\n",
    "\n",
    "number_format_dic = {'Exoplanet radii (in Earth radii)' : \"{:.2f}\", \n",
    "                     'Orbital period in days' : \"{:.1f}\", \n",
    "                     'Star radii (in Solar radii)' : \"{:.2f}\", \n",
    "                     'Star mass (in Solar masses)' : \"{:.2f}\", \n",
    "                     'Distance from Earth in pc' : \"{:.2f}\"}"
   ]
  },
  {
   "cell_type": "code",
   "execution_count": 59,
   "id": "72569cd3-d00c-4b9a-a454-48ec2c960b0e",
   "metadata": {},
   "outputs": [],
   "source": [
    "# 10 closest to Earth star systems containing rocky planet\n",
    "df_lucky_planet_summary = df_Exoplanet_restrict[(df_Exoplanet_restrict['pl_type'].isin(['Terrestrial', 'Super-Earth'])) \n",
    "                      & (df_Exoplanet_restrict['sy_dist'] <= 10.0)].sort_values('sy_dist')[lucky_system_prop]\n",
    "df_lucky_planet_summary.rename(columns = human_readable_columns, inplace = True)"
   ]
  },
  {
   "cell_type": "code",
   "execution_count": 60,
   "id": "b52bee36-f729-4801-9fb2-6be326ca5ace",
   "metadata": {},
   "outputs": [
    {
     "data": {
      "text/html": [
       "<style type=\"text/css\">\n",
       "#T_b0eb6_ caption {\n",
       "  color: black;\n",
       "  font-size: 16px;\n",
       "  font-weight: bold;\n",
       "}\n",
       "</style>\n",
       "<table id=\"T_b0eb6_\">\n",
       "  <caption>10 closests star systems containing rocky exoplanets</caption>\n",
       "  <thead>\n",
       "    <tr>\n",
       "      <th class=\"blank level0\" >&nbsp;</th>\n",
       "      <th class=\"col_heading level0 col0\" >Exoplanet name</th>\n",
       "      <th class=\"col_heading level0 col1\" >Star name</th>\n",
       "      <th class=\"col_heading level0 col2\" >Num of stars in system</th>\n",
       "      <th class=\"col_heading level0 col3\" >Num of confirmed planet in system</th>\n",
       "      <th class=\"col_heading level0 col4\" >Exoplanet radii (in Earth radii)</th>\n",
       "      <th class=\"col_heading level0 col5\" >Orbital period in days</th>\n",
       "      <th class=\"col_heading level0 col6\" >Star radii (in Solar radii)</th>\n",
       "      <th class=\"col_heading level0 col7\" >Star mass (in Solar masses)</th>\n",
       "      <th class=\"col_heading level0 col8\" >Distance from Earth in pc</th>\n",
       "      <th class=\"col_heading level0 col9\" >Exoplanet type</th>\n",
       "    </tr>\n",
       "  </thead>\n",
       "  <tbody>\n",
       "    <tr>\n",
       "      <th id=\"T_b0eb6_level0_row0\" class=\"row_heading level0 row0\" >0</th>\n",
       "      <td id=\"T_b0eb6_row0_col0\" class=\"data row0 col0\" >Ross 128 b</td>\n",
       "      <td id=\"T_b0eb6_row0_col1\" class=\"data row0 col1\" >Ross 128</td>\n",
       "      <td id=\"T_b0eb6_row0_col2\" class=\"data row0 col2\" >1</td>\n",
       "      <td id=\"T_b0eb6_row0_col3\" class=\"data row0 col3\" >1</td>\n",
       "      <td id=\"T_b0eb6_row0_col4\" class=\"data row0 col4\" >1.11</td>\n",
       "      <td id=\"T_b0eb6_row0_col5\" class=\"data row0 col5\" >9.9</td>\n",
       "      <td id=\"T_b0eb6_row0_col6\" class=\"data row0 col6\" >0.20</td>\n",
       "      <td id=\"T_b0eb6_row0_col7\" class=\"data row0 col7\" >0.17</td>\n",
       "      <td id=\"T_b0eb6_row0_col8\" class=\"data row0 col8\" >3.37</td>\n",
       "      <td id=\"T_b0eb6_row0_col9\" class=\"data row0 col9\" >Super-Earth</td>\n",
       "    </tr>\n",
       "    <tr>\n",
       "      <th id=\"T_b0eb6_level0_row1\" class=\"row_heading level0 row1\" >1</th>\n",
       "      <td id=\"T_b0eb6_row1_col0\" class=\"data row1 col0\" >GJ 15 A b</td>\n",
       "      <td id=\"T_b0eb6_row1_col1\" class=\"data row1 col1\" >GJ 15 A</td>\n",
       "      <td id=\"T_b0eb6_row1_col2\" class=\"data row1 col2\" >2</td>\n",
       "      <td id=\"T_b0eb6_row1_col3\" class=\"data row1 col3\" >2</td>\n",
       "      <td id=\"T_b0eb6_row1_col4\" class=\"data row1 col4\" >1.55</td>\n",
       "      <td id=\"T_b0eb6_row1_col5\" class=\"data row1 col5\" >11.4</td>\n",
       "      <td id=\"T_b0eb6_row1_col6\" class=\"data row1 col6\" >0.38</td>\n",
       "      <td id=\"T_b0eb6_row1_col7\" class=\"data row1 col7\" >0.38</td>\n",
       "      <td id=\"T_b0eb6_row1_col8\" class=\"data row1 col8\" >3.56</td>\n",
       "      <td id=\"T_b0eb6_row1_col9\" class=\"data row1 col9\" >Super-Earth</td>\n",
       "    </tr>\n",
       "    <tr>\n",
       "      <th id=\"T_b0eb6_level0_row2\" class=\"row_heading level0 row2\" >2</th>\n",
       "      <td id=\"T_b0eb6_row2_col0\" class=\"data row2 col0\" >tau Cet h</td>\n",
       "      <td id=\"T_b0eb6_row2_col1\" class=\"data row2 col1\" >tau Cet</td>\n",
       "      <td id=\"T_b0eb6_row2_col2\" class=\"data row2 col2\" >1</td>\n",
       "      <td id=\"T_b0eb6_row2_col3\" class=\"data row2 col3\" >4</td>\n",
       "      <td id=\"T_b0eb6_row2_col4\" class=\"data row2 col4\" >1.19</td>\n",
       "      <td id=\"T_b0eb6_row2_col5\" class=\"data row2 col5\" >49.4</td>\n",
       "      <td id=\"T_b0eb6_row2_col6\" class=\"data row2 col6\" >0.83</td>\n",
       "      <td id=\"T_b0eb6_row2_col7\" class=\"data row2 col7\" >0.78</td>\n",
       "      <td id=\"T_b0eb6_row2_col8\" class=\"data row2 col8\" >3.60</td>\n",
       "      <td id=\"T_b0eb6_row2_col9\" class=\"data row2 col9\" >Super-Earth</td>\n",
       "    </tr>\n",
       "    <tr>\n",
       "      <th id=\"T_b0eb6_level0_row3\" class=\"row_heading level0 row3\" >3</th>\n",
       "      <td id=\"T_b0eb6_row3_col0\" class=\"data row3 col0\" >tau Cet g</td>\n",
       "      <td id=\"T_b0eb6_row3_col1\" class=\"data row3 col1\" >tau Cet</td>\n",
       "      <td id=\"T_b0eb6_row3_col2\" class=\"data row3 col2\" >1</td>\n",
       "      <td id=\"T_b0eb6_row3_col3\" class=\"data row3 col3\" >4</td>\n",
       "      <td id=\"T_b0eb6_row3_col4\" class=\"data row3 col4\" >1.18</td>\n",
       "      <td id=\"T_b0eb6_row3_col5\" class=\"data row3 col5\" >20.0</td>\n",
       "      <td id=\"T_b0eb6_row3_col6\" class=\"data row3 col6\" >0.83</td>\n",
       "      <td id=\"T_b0eb6_row3_col7\" class=\"data row3 col7\" >0.78</td>\n",
       "      <td id=\"T_b0eb6_row3_col8\" class=\"data row3 col8\" >3.60</td>\n",
       "      <td id=\"T_b0eb6_row3_col9\" class=\"data row3 col9\" >Super-Earth</td>\n",
       "    </tr>\n",
       "    <tr>\n",
       "      <th id=\"T_b0eb6_level0_row4\" class=\"row_heading level0 row4\" >4</th>\n",
       "      <td id=\"T_b0eb6_row4_col0\" class=\"data row4 col0\" >GJ 1061 b</td>\n",
       "      <td id=\"T_b0eb6_row4_col1\" class=\"data row4 col1\" >GJ 1061</td>\n",
       "      <td id=\"T_b0eb6_row4_col2\" class=\"data row4 col2\" >1</td>\n",
       "      <td id=\"T_b0eb6_row4_col3\" class=\"data row4 col3\" >3</td>\n",
       "      <td id=\"T_b0eb6_row4_col4\" class=\"data row4 col4\" >1.10</td>\n",
       "      <td id=\"T_b0eb6_row4_col5\" class=\"data row4 col5\" >3.2</td>\n",
       "      <td id=\"T_b0eb6_row4_col6\" class=\"data row4 col6\" >0.16</td>\n",
       "      <td id=\"T_b0eb6_row4_col7\" class=\"data row4 col7\" >0.12</td>\n",
       "      <td id=\"T_b0eb6_row4_col8\" class=\"data row4 col8\" >3.67</td>\n",
       "      <td id=\"T_b0eb6_row4_col9\" class=\"data row4 col9\" >Super-Earth</td>\n",
       "    </tr>\n",
       "    <tr>\n",
       "      <th id=\"T_b0eb6_level0_row5\" class=\"row_heading level0 row5\" >5</th>\n",
       "      <td id=\"T_b0eb6_row5_col0\" class=\"data row5 col0\" >GJ 1061 d</td>\n",
       "      <td id=\"T_b0eb6_row5_col1\" class=\"data row5 col1\" >GJ 1061</td>\n",
       "      <td id=\"T_b0eb6_row5_col2\" class=\"data row5 col2\" >1</td>\n",
       "      <td id=\"T_b0eb6_row5_col3\" class=\"data row5 col3\" >3</td>\n",
       "      <td id=\"T_b0eb6_row5_col4\" class=\"data row5 col4\" >1.16</td>\n",
       "      <td id=\"T_b0eb6_row5_col5\" class=\"data row5 col5\" >13.0</td>\n",
       "      <td id=\"T_b0eb6_row5_col6\" class=\"data row5 col6\" >0.16</td>\n",
       "      <td id=\"T_b0eb6_row5_col7\" class=\"data row5 col7\" >0.12</td>\n",
       "      <td id=\"T_b0eb6_row5_col8\" class=\"data row5 col8\" >3.67</td>\n",
       "      <td id=\"T_b0eb6_row5_col9\" class=\"data row5 col9\" >Super-Earth</td>\n",
       "    </tr>\n",
       "    <tr>\n",
       "      <th id=\"T_b0eb6_level0_row6\" class=\"row_heading level0 row6\" >6</th>\n",
       "      <td id=\"T_b0eb6_row6_col0\" class=\"data row6 col0\" >GJ 1061 c</td>\n",
       "      <td id=\"T_b0eb6_row6_col1\" class=\"data row6 col1\" >GJ 1061</td>\n",
       "      <td id=\"T_b0eb6_row6_col2\" class=\"data row6 col2\" >1</td>\n",
       "      <td id=\"T_b0eb6_row6_col3\" class=\"data row6 col3\" >3</td>\n",
       "      <td id=\"T_b0eb6_row6_col4\" class=\"data row6 col4\" >1.18</td>\n",
       "      <td id=\"T_b0eb6_row6_col5\" class=\"data row6 col5\" >6.7</td>\n",
       "      <td id=\"T_b0eb6_row6_col6\" class=\"data row6 col6\" >0.16</td>\n",
       "      <td id=\"T_b0eb6_row6_col7\" class=\"data row6 col7\" >0.12</td>\n",
       "      <td id=\"T_b0eb6_row6_col8\" class=\"data row6 col8\" >3.67</td>\n",
       "      <td id=\"T_b0eb6_row6_col9\" class=\"data row6 col9\" >Super-Earth</td>\n",
       "    </tr>\n",
       "    <tr>\n",
       "      <th id=\"T_b0eb6_level0_row7\" class=\"row_heading level0 row7\" >7</th>\n",
       "      <td id=\"T_b0eb6_row7_col0\" class=\"data row7 col0\" >YZ Cet d</td>\n",
       "      <td id=\"T_b0eb6_row7_col1\" class=\"data row7 col1\" >YZ Cet</td>\n",
       "      <td id=\"T_b0eb6_row7_col2\" class=\"data row7 col2\" >1</td>\n",
       "      <td id=\"T_b0eb6_row7_col3\" class=\"data row7 col3\" >3</td>\n",
       "      <td id=\"T_b0eb6_row7_col4\" class=\"data row7 col4\" >1.03</td>\n",
       "      <td id=\"T_b0eb6_row7_col5\" class=\"data row7 col5\" >4.7</td>\n",
       "      <td id=\"T_b0eb6_row7_col6\" class=\"data row7 col6\" >0.16</td>\n",
       "      <td id=\"T_b0eb6_row7_col7\" class=\"data row7 col7\" >0.14</td>\n",
       "      <td id=\"T_b0eb6_row7_col8\" class=\"data row7 col8\" >3.71</td>\n",
       "      <td id=\"T_b0eb6_row7_col9\" class=\"data row7 col9\" >Super-Earth</td>\n",
       "    </tr>\n",
       "    <tr>\n",
       "      <th id=\"T_b0eb6_level0_row8\" class=\"row_heading level0 row8\" >8</th>\n",
       "      <td id=\"T_b0eb6_row8_col0\" class=\"data row8 col0\" >YZ Cet c</td>\n",
       "      <td id=\"T_b0eb6_row8_col1\" class=\"data row8 col1\" >YZ Cet</td>\n",
       "      <td id=\"T_b0eb6_row8_col2\" class=\"data row8 col2\" >1</td>\n",
       "      <td id=\"T_b0eb6_row8_col3\" class=\"data row8 col3\" >3</td>\n",
       "      <td id=\"T_b0eb6_row8_col4\" class=\"data row8 col4\" >1.05</td>\n",
       "      <td id=\"T_b0eb6_row8_col5\" class=\"data row8 col5\" >3.1</td>\n",
       "      <td id=\"T_b0eb6_row8_col6\" class=\"data row8 col6\" >0.16</td>\n",
       "      <td id=\"T_b0eb6_row8_col7\" class=\"data row8 col7\" >0.14</td>\n",
       "      <td id=\"T_b0eb6_row8_col8\" class=\"data row8 col8\" >3.71</td>\n",
       "      <td id=\"T_b0eb6_row8_col9\" class=\"data row8 col9\" >Super-Earth</td>\n",
       "    </tr>\n",
       "    <tr>\n",
       "      <th id=\"T_b0eb6_level0_row9\" class=\"row_heading level0 row9\" >9</th>\n",
       "      <td id=\"T_b0eb6_row9_col0\" class=\"data row9 col0\" >YZ Cet b</td>\n",
       "      <td id=\"T_b0eb6_row9_col1\" class=\"data row9 col1\" >YZ Cet</td>\n",
       "      <td id=\"T_b0eb6_row9_col2\" class=\"data row9 col2\" >1</td>\n",
       "      <td id=\"T_b0eb6_row9_col3\" class=\"data row9 col3\" >3</td>\n",
       "      <td id=\"T_b0eb6_row9_col4\" class=\"data row9 col4\" >0.91</td>\n",
       "      <td id=\"T_b0eb6_row9_col5\" class=\"data row9 col5\" >2.0</td>\n",
       "      <td id=\"T_b0eb6_row9_col6\" class=\"data row9 col6\" >0.16</td>\n",
       "      <td id=\"T_b0eb6_row9_col7\" class=\"data row9 col7\" >0.14</td>\n",
       "      <td id=\"T_b0eb6_row9_col8\" class=\"data row9 col8\" >3.71</td>\n",
       "      <td id=\"T_b0eb6_row9_col9\" class=\"data row9 col9\" >Terrestrial</td>\n",
       "    </tr>\n",
       "  </tbody>\n",
       "</table>\n"
      ],
      "text/plain": [
       "<pandas.io.formats.style.Styler at 0x217191e7ca0>"
      ]
     },
     "execution_count": 60,
     "metadata": {},
     "output_type": "execute_result"
    }
   ],
   "source": [
    "arg_head = 10\n",
    "df_lucky_planet_summary.reset_index().drop('index', axis = 1).head(arg_head).style.set_caption(\n",
    "    f'{arg_head} closests star systems containing rocky exoplanets').set_table_styles([{\n",
    "    'selector': 'caption',\n",
    "    'props': [('color', 'black'), \n",
    "              ('font-size', '16px'),\n",
    "              (\"font-weight\", \"bold\")] } ], overwrite = False).format(number_format_dic)"
   ]
  },
  {
   "cell_type": "code",
   "execution_count": 61,
   "id": "04f07500-d7ee-4fce-9a2d-1f6c53b3d097",
   "metadata": {},
   "outputs": [],
   "source": [
    "some_agg = df_Exoplanet_restrict.groupby('pl_type').agg({'pl_name' : 'count',  \n",
    "                                              'pl_rade' : ['min' , 'mean', 'median', 'std','max'],\n",
    "                                              'sy_dist' : ['min' , 'mean', 'median', 'std','max'],}).sort_values(('pl_name', 'count'))\n",
    "\n",
    "names_for_agg_columns = {'pl_type' : 'Exoplanet type', \n",
    "                         'pl_name' : 'Exoplanet', \n",
    "                         'pl_rade' : 'Exoplanet radii', \n",
    "                         'sy_dist' : 'Distance from Earth', \n",
    "                         'sy_snum' : 'Number of star in system'}\n",
    "some_agg.rename(columns = names_for_agg_columns, inplace = True)\n",
    "some_agg.index.rename('Exoplanet type', inplace=True)"
   ]
  },
  {
   "cell_type": "code",
   "execution_count": 62,
   "id": "dcee18eb-5f58-4fbd-822e-822d87d0f0f5",
   "metadata": {},
   "outputs": [
    {
     "data": {
      "text/html": [
       "<style type=\"text/css\">\n",
       "#T_a48c7_ td.row0 {\n",
       "  background-color: lightgreen;\n",
       "}\n",
       "#T_a48c7_ td.row2 {\n",
       "  background-color: lightgreen;\n",
       "}\n",
       "#T_a48c7_ caption {\n",
       "  color: black;\n",
       "  font-size: 16px;\n",
       "  font-weight: bold;\n",
       "}\n",
       "</style>\n",
       "<table id=\"T_a48c7_\">\n",
       "  <caption>Summary of exoplanets statistics</caption>\n",
       "  <thead>\n",
       "    <tr>\n",
       "      <th class=\"blank level0\" >&nbsp;</th>\n",
       "      <th class=\"col_heading level0 col0\" >Exoplanet</th>\n",
       "      <th class=\"col_heading level0 col1\" colspan=\"5\">Exoplanet radii</th>\n",
       "      <th class=\"col_heading level0 col6\" colspan=\"5\">Distance from Earth</th>\n",
       "    </tr>\n",
       "    <tr>\n",
       "      <th class=\"blank level1\" >&nbsp;</th>\n",
       "      <th class=\"col_heading level1 col0\" >count</th>\n",
       "      <th class=\"col_heading level1 col1\" >min</th>\n",
       "      <th class=\"col_heading level1 col2\" >mean</th>\n",
       "      <th class=\"col_heading level1 col3\" >median</th>\n",
       "      <th class=\"col_heading level1 col4\" >std</th>\n",
       "      <th class=\"col_heading level1 col5\" >max</th>\n",
       "      <th class=\"col_heading level1 col6\" >min</th>\n",
       "      <th class=\"col_heading level1 col7\" >mean</th>\n",
       "      <th class=\"col_heading level1 col8\" >median</th>\n",
       "      <th class=\"col_heading level1 col9\" >std</th>\n",
       "      <th class=\"col_heading level1 col10\" >max</th>\n",
       "    </tr>\n",
       "    <tr>\n",
       "      <th class=\"index_name level0\" >Exoplanet type</th>\n",
       "      <th class=\"blank col0\" >&nbsp;</th>\n",
       "      <th class=\"blank col1\" >&nbsp;</th>\n",
       "      <th class=\"blank col2\" >&nbsp;</th>\n",
       "      <th class=\"blank col3\" >&nbsp;</th>\n",
       "      <th class=\"blank col4\" >&nbsp;</th>\n",
       "      <th class=\"blank col5\" >&nbsp;</th>\n",
       "      <th class=\"blank col6\" >&nbsp;</th>\n",
       "      <th class=\"blank col7\" >&nbsp;</th>\n",
       "      <th class=\"blank col8\" >&nbsp;</th>\n",
       "      <th class=\"blank col9\" >&nbsp;</th>\n",
       "      <th class=\"blank col10\" >&nbsp;</th>\n",
       "    </tr>\n",
       "  </thead>\n",
       "  <tbody>\n",
       "    <tr>\n",
       "      <th id=\"T_a48c7_level0_row0\" class=\"row_heading level0 row0\" >Terrestrial</th>\n",
       "      <td id=\"T_a48c7_row0_col0\" class=\"data row0 col0\" >191</td>\n",
       "      <td id=\"T_a48c7_row0_col1\" class=\"data row0 col1\" >0.30</td>\n",
       "      <td id=\"T_a48c7_row0_col2\" class=\"data row0 col2\" >0.82</td>\n",
       "      <td id=\"T_a48c7_row0_col3\" class=\"data row0 col3\" >0.86</td>\n",
       "      <td id=\"T_a48c7_row0_col4\" class=\"data row0 col4\" >0.13</td>\n",
       "      <td id=\"T_a48c7_row0_col5\" class=\"data row0 col5\" >1.00</td>\n",
       "      <td id=\"T_a48c7_row0_col6\" class=\"data row0 col6\" >3.71</td>\n",
       "      <td id=\"T_a48c7_row0_col7\" class=\"data row0 col7\" >423.83</td>\n",
       "      <td id=\"T_a48c7_row0_col8\" class=\"data row0 col8\" >389.14</td>\n",
       "      <td id=\"T_a48c7_row0_col9\" class=\"data row0 col9\" >315.24</td>\n",
       "      <td id=\"T_a48c7_row0_col10\" class=\"data row0 col10\" >1551.54</td>\n",
       "    </tr>\n",
       "    <tr>\n",
       "      <th id=\"T_a48c7_level0_row1\" class=\"row_heading level0 row1\" >Sub-Jovian</th>\n",
       "      <td id=\"T_a48c7_row1_col0\" class=\"data row1 col0\" >346</td>\n",
       "      <td id=\"T_a48c7_row1_col1\" class=\"data row1 col1\" >3.50</td>\n",
       "      <td id=\"T_a48c7_row1_col2\" class=\"data row1 col2\" >4.35</td>\n",
       "      <td id=\"T_a48c7_row1_col3\" class=\"data row1 col3\" >4.14</td>\n",
       "      <td id=\"T_a48c7_row1_col4\" class=\"data row1 col4\" >0.70</td>\n",
       "      <td id=\"T_a48c7_row1_col5\" class=\"data row1 col5\" >5.99</td>\n",
       "      <td id=\"T_a48c7_row1_col6\" class=\"data row1 col6\" >4.55</td>\n",
       "      <td id=\"T_a48c7_row1_col7\" class=\"data row1 col7\" >690.19</td>\n",
       "      <td id=\"T_a48c7_row1_col8\" class=\"data row1 col8\" >594.09</td>\n",
       "      <td id=\"T_a48c7_row1_col9\" class=\"data row1 col9\" >602.41</td>\n",
       "      <td id=\"T_a48c7_row1_col10\" class=\"data row1 col10\" >3347.16</td>\n",
       "    </tr>\n",
       "    <tr>\n",
       "      <th id=\"T_a48c7_level0_row2\" class=\"row_heading level0 row2\" >Super-Earth</th>\n",
       "      <td id=\"T_a48c7_row2_col0\" class=\"data row2 col0\" >1028</td>\n",
       "      <td id=\"T_a48c7_row2_col1\" class=\"data row2 col1\" >1.00</td>\n",
       "      <td id=\"T_a48c7_row2_col2\" class=\"data row2 col2\" >1.39</td>\n",
       "      <td id=\"T_a48c7_row2_col3\" class=\"data row2 col3\" >1.40</td>\n",
       "      <td id=\"T_a48c7_row2_col4\" class=\"data row2 col4\" >0.20</td>\n",
       "      <td id=\"T_a48c7_row2_col5\" class=\"data row2 col5\" >1.75</td>\n",
       "      <td id=\"T_a48c7_row2_col6\" class=\"data row2 col6\" >3.37</td>\n",
       "      <td id=\"T_a48c7_row2_col7\" class=\"data row2 col7\" >586.69</td>\n",
       "      <td id=\"T_a48c7_row2_col8\" class=\"data row2 col8\" >526.00</td>\n",
       "      <td id=\"T_a48c7_row2_col9\" class=\"data row2 col9\" >426.58</td>\n",
       "      <td id=\"T_a48c7_row2_col10\" class=\"data row2 col10\" >2712.58</td>\n",
       "    </tr>\n",
       "    <tr>\n",
       "      <th id=\"T_a48c7_level0_row3\" class=\"row_heading level0 row3\" >Jovian</th>\n",
       "      <td id=\"T_a48c7_row3_col0\" class=\"data row3 col0\" >1341</td>\n",
       "      <td id=\"T_a48c7_row3_col1\" class=\"data row3 col1\" >6.00</td>\n",
       "      <td id=\"T_a48c7_row3_col2\" class=\"data row3 col2\" >12.88</td>\n",
       "      <td id=\"T_a48c7_row3_col3\" class=\"data row3 col3\" >13.10</td>\n",
       "      <td id=\"T_a48c7_row3_col4\" class=\"data row3 col4\" >2.73</td>\n",
       "      <td id=\"T_a48c7_row3_col5\" class=\"data row3 col5\" >30.49</td>\n",
       "      <td id=\"T_a48c7_row3_col6\" class=\"data row3 col6\" >3.20</td>\n",
       "      <td id=\"T_a48c7_row3_col7\" class=\"data row3 col7\" >341.46</td>\n",
       "      <td id=\"T_a48c7_row3_col8\" class=\"data row3 col8\" >172.26</td>\n",
       "      <td id=\"T_a48c7_row3_col9\" class=\"data row3 col9\" >424.58</td>\n",
       "      <td id=\"T_a48c7_row3_col10\" class=\"data row3 col10\" >4483.05</td>\n",
       "    </tr>\n",
       "    <tr>\n",
       "      <th id=\"T_a48c7_level0_row4\" class=\"row_heading level0 row4\" >Sub-Neptune</th>\n",
       "      <td id=\"T_a48c7_row4_col0\" class=\"data row4 col0\" >1770</td>\n",
       "      <td id=\"T_a48c7_row4_col1\" class=\"data row4 col1\" >1.75</td>\n",
       "      <td id=\"T_a48c7_row4_col2\" class=\"data row4 col2\" >2.49</td>\n",
       "      <td id=\"T_a48c7_row4_col3\" class=\"data row4 col3\" >2.46</td>\n",
       "      <td id=\"T_a48c7_row4_col4\" class=\"data row4 col4\" >0.45</td>\n",
       "      <td id=\"T_a48c7_row4_col5\" class=\"data row4 col5\" >3.50</td>\n",
       "      <td id=\"T_a48c7_row4_col6\" class=\"data row4 col6\" >3.29</td>\n",
       "      <td id=\"T_a48c7_row4_col7\" class=\"data row4 col7\" >696.12</td>\n",
       "      <td id=\"T_a48c7_row4_col8\" class=\"data row4 col8\" >651.73</td>\n",
       "      <td id=\"T_a48c7_row4_col9\" class=\"data row4 col9\" >493.40</td>\n",
       "      <td id=\"T_a48c7_row4_col10\" class=\"data row4 col10\" >3460.51</td>\n",
       "    </tr>\n",
       "  </tbody>\n",
       "</table>\n"
      ],
      "text/plain": [
       "<pandas.io.formats.style.Styler at 0x2171557d0a0>"
      ]
     },
     "execution_count": 62,
     "metadata": {},
     "output_type": "execute_result"
    }
   ],
   "source": [
    "some_agg.style.set_caption('Summary of exoplanets statistics').set_table_styles({\n",
    "    \"Terrestrial\" : [ { \"selector\" :\"td\", \"props\": [(\"background-color\", \"lightgreen\")]}],\n",
    "    'Super-Earth' : [ { \"selector\" :\"td\", \"props\": [(\"background-color\", \"lightgreen\")]}]\n",
    "}, axis = 1, ).set_table_styles([{\n",
    "    'selector': 'caption',\n",
    "    'props': [('color', 'black'), \n",
    "              ('font-size', '16px'),\n",
    "              (\"font-weight\", \"bold\")] } ], overwrite = False).format({(\"Exoplanet radii\", 'min' ): '{:.2f}', \n",
    "                                                                       (\"Exoplanet radii\", 'mean' ): '{:.2f}', \n",
    "                                                                       (\"Exoplanet radii\", 'median' ): '{:.2f}', \n",
    "                                                                       (\"Exoplanet radii\", 'std' ): '{:.2f}', \n",
    "                                                                       (\"Exoplanet radii\", 'max' ): '{:.2f}',\n",
    "                                                                       (\"Distance from Earth\", 'min' ): '{:.2f}', \n",
    "                                                                       (\"Distance from Earth\", 'mean' ): '{:.2f}', \n",
    "                                                                       (\"Distance from Earth\", 'median' ): '{:.2f}', \n",
    "                                                                       (\"Distance from Earth\", 'std' ): '{:.2f}', \n",
    "                                                                       (\"Distance from Earth\", 'max' ): '{:.2f}'} )"
   ]
  },
  {
   "cell_type": "markdown",
   "id": "1b7ea602-c250-4e73-8760-aacc881d5bc4",
   "metadata": {},
   "source": [
    "Distance to the farthest rocky exoplanet discovered"
   ]
  },
  {
   "cell_type": "code",
   "execution_count": 63,
   "id": "58282128-4d9c-49bc-999e-84806269aa51",
   "metadata": {},
   "outputs": [
    {
     "data": {
      "text/plain": [
       "pl_name                Kepler-1296 b\n",
       "hostname                 Kepler-1296\n",
       "sy_snum                            1\n",
       "sy_pnum                            1\n",
       "discoverymethod              Transit\n",
       "disc_year                       2016\n",
       "pl_orbper                   8.383987\n",
       "pl_rade                         0.91\n",
       "st_rad                          0.83\n",
       "st_mass                         0.87\n",
       "st_met                         -0.04\n",
       "sy_dist                      1551.54\n",
       "decade_of_discovery            2010s\n",
       "pl_type                  Terrestrial\n",
       "st_compactness              1.048193\n",
       "Name: 53, dtype: object"
      ]
     },
     "execution_count": 63,
     "metadata": {},
     "output_type": "execute_result"
    }
   ],
   "source": [
    "rocky_planets = df_Exoplanet_restrict[(df_Exoplanet_restrict['pl_type'] == 'Terrestrial')].reset_index()\n",
    "rocky_planets.drop('index', axis = 1, inplace = True)\n",
    "\n",
    "# distance to farthest Rocky planet\n",
    "#rocky_planets['sy_dist'].max()\n",
    "\n",
    "# more detailed view of farthest Rocky exoplanet\n",
    "index_of_farthes_rocky = rocky_planets['sy_dist'].idxmax()\n",
    "rocky_planets.iloc[index_of_farthes_rocky]"
   ]
  },
  {
   "cell_type": "code",
   "execution_count": 64,
   "id": "b7dc5c4b-9eeb-47b3-b991-40c4aa5b0ddf",
   "metadata": {},
   "outputs": [
    {
     "name": "stdout",
     "output_type": "stream",
     "text": [
      "Discovery year was 2016\n",
      "Host star is Kepler-1296\n",
      "Exoplanet was named Kepler-1296 b\n",
      "System contains 1 star\n",
      "There is 1 confirmed exoplanet in there\n",
      "Host star has 0.87 mas of the Sun\n",
      "System is 1551.54 parsecs [pc] from Sun\n",
      "Planet has radius of 0.91 Earth radii\n",
      "Its orbital period is 8.3839865 days\n",
      "Exoplanet belongs to Terrestrial class\n"
     ]
    }
   ],
   "source": [
    "describe_planet(rocky_planets.iloc[index_of_farthes_rocky])"
   ]
  },
  {
   "cell_type": "markdown",
   "id": "a751e1f3-4fd2-4810-9e3b-fdc00a38f251",
   "metadata": {},
   "source": [
    "Above factsheet imply that we detected exoplanet that is slightly smaller than the Earth from distance of 1.5 kpc. This corresponds to distance\n",
    "of roughly 5000 light years. This means that when the light we saw was emitted Egyptians just started to learn how to make paper from papyrus."
   ]
  },
  {
   "cell_type": "markdown",
   "id": "0ed0533e-4ca8-4a7a-93a8-110b5004410d",
   "metadata": {},
   "source": [
    "<font size = '5'> Some additional birds eye view of exoplanets and their host stars populations </font>"
   ]
  },
  {
   "cell_type": "code",
   "execution_count": 65,
   "id": "62779ace-dea0-4817-bbcb-2da412139c22",
   "metadata": {},
   "outputs": [],
   "source": [
    "#df_Exoplanet_restrict.columns"
   ]
  },
  {
   "cell_type": "code",
   "execution_count": 66,
   "id": "7598abf2-07cf-412d-9317-c55528b69ba5",
   "metadata": {},
   "outputs": [],
   "source": [
    "# df_for_histplot = [df_Exoplanet_restrict, \n",
    "#                    df_Exoplanet_restrict[df_Exoplanet_restrict['st_mass'] < 6.0], \n",
    "#                    df_Exoplanet_restrict, \n",
    "#                    df_Exoplanet_restrict[df_Exoplanet_restrict['st_compactness'] < 10.0]\n",
    "#                   ]\n",
    "\n",
    "# hist_plot_list = ['pl_rade', 'st_mass', 'st_met', 'st_compactness']\n",
    "# xlabel_list = ['Exoplanet radii', 'Star mass', 'Star metalicity', 'Star compactness']"
   ]
  },
  {
   "cell_type": "code",
   "execution_count": 67,
   "id": "f0a1e3d1-802b-4e89-af41-d6c53faae81d",
   "metadata": {},
   "outputs": [],
   "source": [
    "# fig_hist, axes_hist = plt.subplots(nrows = 2, ncols = 2 , figsize=(16,8))\n",
    "\n",
    "\n",
    "# for i, item in enumerate(hist_plot_list):\n",
    "   \n",
    "#     sns.histplot(data = df_for_histplot[i], x = item, color=\"C0\", ax = axes_hist.flat[i])\n",
    "#     axes_hist.flat[i].grid(True)\n",
    "#     axes_hist.flat[i].set_xlabel(xlabel_list[i])\n",
    "#     axes_hist.flat[i].set_ylabel('')\n",
    "\n",
    "# plt.tight_layout()\n",
    "# plt.show()"
   ]
  },
  {
   "cell_type": "code",
   "execution_count": 68,
   "id": "a1050556-4bc7-4d5c-a8fb-ac0501e2becd",
   "metadata": {},
   "outputs": [],
   "source": [
    "df_for_histplot_pl1 = [df_Exoplanet_restrict, \n",
    "                       df_Exoplanet_restrict[df_Exoplanet_restrict['pl_rade'] <= 4.0], \n",
    "                       df_Exoplanet_restrict[df_Exoplanet_restrict['pl_rade'] > 4.0] \n",
    "                      ]\n",
    "\n",
    "hist_plot_list_pl1 = ['pl_rade']*3\n",
    "xlabel_list_pl1 = ['Exoplanet radii']*3"
   ]
  },
  {
   "cell_type": "code",
   "execution_count": 69,
   "id": "ef7322a2-613e-4071-98b1-44f83c0fb3d3",
   "metadata": {},
   "outputs": [
    {
     "data": {
      "image/png": "[encoded data removed]",
      "text/plain": [
       "<Figure size 1296x432 with 3 Axes>"
      ]
     },
     "metadata": {
      "needs_background": "light"
     },
     "output_type": "display_data"
    }
   ],
   "source": [
    "fig_hist_pl1, axes_hist_pl1 = plt.subplots(nrows = 1, ncols = 3 , figsize=(18,6))\n",
    "\n",
    "\n",
    "for i, item in enumerate(hist_plot_list_pl1):\n",
    "   \n",
    "    sns.histplot(data = df_for_histplot_pl1[i], x = item, color=\"C0\", ax = axes_hist_pl1[i])\n",
    "    axes_hist_pl1[i].grid(True)\n",
    "    axes_hist_pl1[i].set_xlabel(xlabel_list_pl1[i])\n",
    "    axes_hist_pl1[i].set_ylabel('')\n",
    "\n",
    "plt.suptitle('Exoplanets radii distributions', fontsize = 16)\n",
    "plt.tight_layout()\n",
    "plt.show()"
   ]
  },
  {
   "cell_type": "markdown",
   "id": "d8bfe1a1-72e6-4ef4-b363-076bc300e2a3",
   "metadata": {},
   "source": [
    "From first plot we see that there is gap in exoplanets radii located roughly between 5 and 10 Earth radii. This is due to fact that we may segregate data into two main parts namely pre-Keppler and Keppler era. First exoplanets to be discovered, we may call them pre-Keppler’s era exoplanets, were the big Jovian like gas giants. Maximum of they radii distributions is around 12 Earth radii. \n",
    "The main goal of the Keppler space telescope mission was to hunt down Earth like exoplanets whose radii are in 0-4 Earth radii range. \n",
    "On the second plot we see closeup of this exoplanets group. Interestingly we see a gap around 2 Earth radii which is called the 'Fulton gap' or the 'Neptunian Desert' (see for example https://iopscience.iop.org/article/10.3847/1538-3881/aa80eb).\n",
    "This is region of radii - orbital period parameters space for which there is significant lack of Neptune size objects, and its root cause is believed to be the interaction among host star and Neptune sized object on close orbits."
   ]
  },
  {
   "cell_type": "code",
   "execution_count": 70,
   "id": "85bafdf7-476d-4ecb-9759-5dd69cf9766d",
   "metadata": {},
   "outputs": [],
   "source": [
    "df_for_scatter_pl1 = [df_Exoplanet_restrict[((df_Exoplanet_restrict['pl_rade'] > 1.0) &\n",
    "                                             (df_Exoplanet_restrict['pl_rade'] < 4.0)) \n",
    "                                            & (df_Exoplanet_restrict['pl_orbper'] < 2)], \n",
    "                      df_Exoplanet_restrict[((df_Exoplanet_restrict['pl_rade'] > 1.0) &\n",
    "                                             (df_Exoplanet_restrict['pl_rade'] < 4.0)) \n",
    "                                            & (df_Exoplanet_restrict['pl_orbper'] < 10)]]\n",
    "\n",
    "\n",
    "scatter_plot_y_pl1 = ['pl_orbper']*2\n",
    "scatter_plot_x_pl1 = ['pl_rade']*2"
   ]
  },
  {
   "cell_type": "code",
   "execution_count": 71,
   "id": "741183b3-8abf-4fb1-bf23-bb6d89bd07c7",
   "metadata": {},
   "outputs": [
    {
     "data": {
      "image/png": "[encoded data removed]",
      "text/plain": [
       "<Figure size 1296x432 with 2 Axes>"
      ]
     },
     "metadata": {
      "needs_background": "light"
     },
     "output_type": "display_data"
    }
   ],
   "source": [
    "fig_scatter_pl1, axes_scatter_pl1 = plt.subplots(nrows = 1, ncols = 2 , figsize=(18,6))\n",
    "\n",
    "\n",
    "for i, item in enumerate(scatter_plot_x_pl1):\n",
    "   \n",
    "    sns.scatterplot(data = df_for_scatter_pl1[i], x = item, y = scatter_plot_y_pl1[i] , color=\"C0\", ax = axes_scatter_pl1[i])\n",
    "    axes_scatter_pl1[i].grid(True)\n",
    "    axes_scatter_pl1[i].set_xlabel('Exoplanet radii')\n",
    "    axes_scatter_pl1[i].set_ylabel('Orbital period')\n",
    "\n",
    "plt.suptitle('Exoplanets population in radii - orbital period space', fontsize = 16)\n",
    "plt.tight_layout()\n",
    "plt.show()"
   ]
  },
  {
   "cell_type": "markdown",
   "id": "cb526fca-d6c7-4d7c-8f04-5f4ff5dc4b0f",
   "metadata": {},
   "source": [
    "At first plot we see gap in exoplanets population for radii around 2 Earth radii and for orbital periods below 3 days. This is aforementioned 'Neptunian Desert'.\n",
    "On the second plot we see that in the same radii range, but for large orbital period there is no gap in exoplanets population."
   ]
  },
  {
   "cell_type": "code",
   "execution_count": 72,
   "id": "4be06b72-6500-4fa6-8c77-d90de1aa8211",
   "metadata": {},
   "outputs": [],
   "source": [
    "df_for_histplot = [df_Exoplanet_restrict[df_Exoplanet_restrict['st_mass'] < 6.0], \n",
    "                   df_Exoplanet_restrict, \n",
    "                   df_Exoplanet_restrict[df_Exoplanet_restrict['st_compactness'] < 10.0]\n",
    "                  ]\n",
    "\n",
    "hist_plot_list = ['st_mass', 'st_met', 'st_compactness']\n",
    "xlabel_list = ['Star mass', 'Star metalicity', 'Star compactness']"
   ]
  },
  {
   "cell_type": "code",
   "execution_count": 73,
   "id": "d78b84cd-d77d-48fa-92cf-ee085f8fa9aa",
   "metadata": {},
   "outputs": [
    {
     "data": {
      "image/png": "[encoded data removed]",
      "text/plain": [
       "<Figure size 1296x576 with 3 Axes>"
      ]
     },
     "metadata": {
      "needs_background": "light"
     },
     "output_type": "display_data"
    }
   ],
   "source": [
    "fig_hist, axes_hist = plt.subplots(nrows = 1, ncols = 3 , figsize=(18,8))\n",
    "\n",
    "\n",
    "for i, item in enumerate(hist_plot_list):\n",
    "   \n",
    "    sns.histplot(data = df_for_histplot[i], x = item, color=\"C0\", ax = axes_hist[i])\n",
    "    axes_hist[i].grid(True)\n",
    "    axes_hist[i].set_xlabel(xlabel_list[i])\n",
    "    axes_hist[i].set_ylabel('')\n",
    "\n",
    "plt.suptitle('Exoplanets host star population review', fontsize = 16)\n",
    "plt.tight_layout()\n",
    "plt.show()"
   ]
  },
  {
   "cell_type": "markdown",
   "id": "03b2db72-51de-4d89-bb96-66bf85377a12",
   "metadata": {},
   "source": [
    "From plots above we see that host stars of confirmed exoplanets are normally distributed around points in parameter space representing Sun like object.\n",
    "This is star with mas around 1 solar mass and by definition compactness of Sun is 1 and metallicity is 0. Since all of these variables are normally distributed we may look for correlations among them."
   ]
  },
  {
   "cell_type": "code",
   "execution_count": 74,
   "id": "f7f40d8d-6199-40d9-b9b1-5cf94ca2eb44",
   "metadata": {},
   "outputs": [
    {
     "data": {
      "text/plain": [
       "<AxesSubplot:>"
      ]
     },
     "execution_count": 74,
     "metadata": {},
     "output_type": "execute_result"
    },
    {
     "data": {
      "image/png": "[encoded data removed]",
      "text/plain": [
       "<Figure size 432x288 with 2 Axes>"
      ]
     },
     "metadata": {
      "needs_background": "light"
     },
     "output_type": "display_data"
    }
   ],
   "source": [
    "sns.heatmap(df_Exoplanet_restrict[['st_met', 'st_mass', 'st_compactness']].corr(), annot = True)"
   ]
  },
  {
   "cell_type": "code",
   "execution_count": 75,
   "id": "bc45785a-b15d-4331-a775-ecebcd436e3b",
   "metadata": {},
   "outputs": [],
   "source": [
    "# # Map to upper,lower, and diagonal\n",
    "# st_grid = sns.PairGrid(df_Exoplanet_restrict[['st_met', 'st_mass', 'st_compactness']], height = 4)\n",
    "# st_grid.map_diag(plt.hist)\n",
    "# st_grid.map_upper(plt.scatter)\n",
    "# st_grid.map_lower(sns.kdeplot)"
   ]
  },
  {
   "cell_type": "code",
   "execution_count": 76,
   "id": "ae0da39e-0e5b-4c8a-895b-39e1bfb63cfc",
   "metadata": {},
   "outputs": [
    {
     "data": {
      "image/png": "[encoded data removed]",
      "text/plain": [
       "<Figure size 1152x576 with 6 Axes>"
      ]
     },
     "metadata": {
      "needs_background": "light"
     },
     "output_type": "display_data"
    }
   ],
   "source": [
    "import itertools \n",
    "import matplotlib.gridspec as gridspec\n",
    "\n",
    "nvars=['st_met', 'st_compactness']\n",
    "rt=['st_mass']\n",
    "xname = ['Star metallicity', 'Star compactness']\n",
    "\n",
    "# A JointGrid\n",
    "fig = plt.figure(figsize=(16,8))\n",
    "gs = gridspec.GridSpec(len(rt),len(nvars))\n",
    "\n",
    "for i, idxs in enumerate(itertools.product(rt, nvars)):\n",
    "    nrt, nvar = idxs\n",
    "    g=sns.jointplot(x=nvar, y = nrt, data = df_Exoplanet_restrict)#, space=0,ax=axs[idx_rt,idx_var])\n",
    "    r, p = stats.pearsonr(df_Exoplanet_restrict[nrt], df_Exoplanet_restrict[nvar])\n",
    "    g.ax_joint.annotate(f'$r = {r:.3f}, p = {p:.3f}$',\n",
    "      xy=(0.6, 0.9), xycoords='axes fraction',\n",
    "      ha='left', va='center',\n",
    "      bbox={'boxstyle': 'round', 'fc': 'powderblue', 'ec': 'navy'})\n",
    "    g.ax_joint.set_xlabel(xname[i])\n",
    "    g.ax_joint.set_ylabel('Star mass')\n",
    "    mg = SeabornFig2Grid(g, fig, gs[i])\n",
    "\n",
    "gs.tight_layout(fig)\n",
    "#gs.update(top=0.7)\n",
    "\n",
    "plt.show()"
   ]
  },
  {
   "cell_type": "markdown",
   "id": "9dc8d8eb-0cc4-4277-96a6-904d643584a1",
   "metadata": {},
   "source": [
    "From the left plot we see that we have weak correlation between star metallicity and its mass. On the other hand, from the right one we infer that correlation between star compactness ($C_{Star}$) and mass is moderate and negative. Therefore, increase in mass, when we keep everything else constant lead to the decrease of the compactness factor. Since we know that $C_{Star} = \\frac{M_{Star}}{R_{Star}}$ this is sensible result."
   ]
  },
  {
   "cell_type": "code",
   "execution_count": 77,
   "id": "1e6597ff-5c8e-436c-bcfb-4c292adf5e69",
   "metadata": {},
   "outputs": [
    {
     "data": {
      "text/plain": [
       "Text(45.0, 0.5, 'Star compactness')"
      ]
     },
     "execution_count": 77,
     "metadata": {},
     "output_type": "execute_result"
    },
    {
     "data": {
      "image/png": "[encoded data removed]",
      "text/plain": [
       "<Figure size 576x576 with 3 Axes>"
      ]
     },
     "metadata": {
      "needs_background": "light"
     },
     "output_type": "display_data"
    }
   ],
   "source": [
    "graph = sns.jointplot(x = 'st_met', y = 'st_compactness', data = df_Exoplanet_restrict, height = 8)\n",
    "r, p = stats.pearsonr(df_Exoplanet_restrict['st_compactness'], df_Exoplanet_restrict['st_met'])\n",
    "\n",
    "graph.ax_joint.annotate(f'$r = {r:.3f}, p = {p:.3f}$',\n",
    "                    xy=(0.7, 0.9), xycoords='axes fraction',\n",
    "                    ha='left', va='center',\n",
    "                    bbox={'boxstyle': 'round', 'fc': 'powderblue', 'ec': 'navy'})\n",
    "graph.ax_joint.set_xlabel('Star metallicity')\n",
    "graph.ax_joint.set_ylabel('Star compactness')\n"
   ]
  },
  {
   "cell_type": "markdown",
   "id": "7e1698db-9bc8-4f8f-bbf1-6644c2e519a0",
   "metadata": {},
   "source": [
    "From above plot we may infer that at any typical confidence levels there is no correlation among star metallicity and its compactness."
   ]
  },
  {
   "cell_type": "markdown",
   "id": "59edc7d9-d942-4c66-9d48-140a48850efe",
   "metadata": {},
   "source": [
    "# Is there difference in average metallicity of the stars harboring gas giants and those that host only small planets?"
   ]
  },
  {
   "cell_type": "markdown",
   "id": "eedca947-d40c-40e7-ac5c-f3a3c73c6078",
   "metadata": {},
   "source": [
    "Null hypothesis $H_{0}$: there is no difference in the average metallicity of stars hosting rocky worlds and gas giants\n",
    "\n",
    "Alternative hypothesis $H_{1}$: mean metallicity in stars populations hosting rocky worlds differ from that for the ones harboring gas giants\n"
   ]
  },
  {
   "cell_type": "markdown",
   "id": "994d2c25-9fea-4ebd-a709-6d5f93c46d5b",
   "metadata": {},
   "source": [
    "Samples preparation"
   ]
  },
  {
   "cell_type": "code",
   "execution_count": 78,
   "id": "f2656a79-82eb-43f6-9cc3-2e5ac85358ce",
   "metadata": {},
   "outputs": [],
   "source": [
    "# systems containing large exoplanets\n",
    "df_Large_radii = df_Exoplanet_restrict[df_Exoplanet_restrict['pl_rade'] > 4.0]['st_met']"
   ]
  },
  {
   "cell_type": "code",
   "execution_count": 79,
   "id": "1546d76b-a778-473f-ac2b-b04eb2dc528b",
   "metadata": {},
   "outputs": [],
   "source": [
    "# list of unique systems names\n",
    "count_uniq_systems_Large = df_Exoplanet_restrict[df_Exoplanet_restrict['pl_rade'] > 4.0]['hostname'].unique()"
   ]
  },
  {
   "cell_type": "code",
   "execution_count": 80,
   "id": "ed241016-71a5-4e1f-89c1-c51556cae102",
   "metadata": {},
   "outputs": [],
   "source": [
    "# systems containing small exoplanets\n",
    "df_Small_radii = df_Exoplanet_restrict[df_Exoplanet_restrict['pl_rade'] <= 4.0]['st_met']"
   ]
  },
  {
   "cell_type": "code",
   "execution_count": 81,
   "id": "21ec1354-4a99-4c3f-9b6b-dc397bd14d56",
   "metadata": {},
   "outputs": [
    {
     "data": {
      "text/plain": [
       "196"
      ]
     },
     "execution_count": 81,
     "metadata": {},
     "output_type": "execute_result"
    }
   ],
   "source": [
    "# selecting systems that contain both small and large exoplanets\n",
    "systems_with_small_and_large = df_Exoplanet_restrict[(df_Exoplanet_restrict['pl_rade'] <= 4.0) & \n",
    "                      (df_Exoplanet_restrict['hostname'].isin(count_uniq_systems_Large))]['hostname']\n",
    "systems_with_small_and_large.count()"
   ]
  },
  {
   "cell_type": "code",
   "execution_count": 82,
   "id": "98bca730-2d11-4181-a169-e3bf21c4ebc6",
   "metadata": {},
   "outputs": [],
   "source": [
    "# remove systems that contains both big and small planets\n",
    "df_Small_radii_clear = df_Exoplanet_restrict[(df_Exoplanet_restrict['pl_rade'] <= 4.0) & (~df_Exoplanet_restrict['hostname'].isin(systems_with_small_and_large))]"
   ]
  },
  {
   "cell_type": "code",
   "execution_count": 83,
   "id": "a2a80eb7-a6a1-434c-91fb-17667facf39e",
   "metadata": {},
   "outputs": [
    {
     "data": {
      "text/plain": [
       "<AxesSubplot:xlabel='st_met', ylabel='Count'>"
      ]
     },
     "execution_count": 83,
     "metadata": {},
     "output_type": "execute_result"
    },
    {
     "data": {
      "image/png": "[encoded data removed]",
      "text/plain": [
       "<Figure size 432x288 with 1 Axes>"
      ]
     },
     "metadata": {
      "needs_background": "light"
     },
     "output_type": "display_data"
    }
   ],
   "source": [
    "# visual check for normal distribution of the sample\n",
    "sns.histplot(data = df_Small_radii_clear, x = 'st_met')"
   ]
  },
  {
   "cell_type": "code",
   "execution_count": 84,
   "id": "905d68e9-324f-4521-99db-6962941b0d1a",
   "metadata": {},
   "outputs": [],
   "source": [
    "# remove systems that contains both big and small planets\n",
    "df_Large_radii_clear = df_Exoplanet_restrict[(df_Exoplanet_restrict['pl_rade'] > 4.0) & (~df_Exoplanet_restrict['hostname'].isin(systems_with_small_and_large))]"
   ]
  },
  {
   "cell_type": "code",
   "execution_count": 85,
   "id": "5f751075-f252-4c2c-9eac-289ca52e9282",
   "metadata": {},
   "outputs": [
    {
     "data": {
      "text/plain": [
       "<AxesSubplot:xlabel='st_met', ylabel='Count'>"
      ]
     },
     "execution_count": 85,
     "metadata": {},
     "output_type": "execute_result"
    },
    {
     "data": {
      "image/png": "[encoded data removed]",
      "text/plain": [
       "<Figure size 432x288 with 1 Axes>"
      ]
     },
     "metadata": {
      "needs_background": "light"
     },
     "output_type": "display_data"
    }
   ],
   "source": [
    "# visual check for normal distribution of the sample\n",
    "sns.histplot(data = df_Large_radii_clear, x = 'st_met')"
   ]
  },
  {
   "cell_type": "code",
   "execution_count": 86,
   "id": "eeab5345-f1b3-4256-95de-dcdb35afda79",
   "metadata": {},
   "outputs": [
    {
     "data": {
      "text/plain": [
       "0.05968835864063639"
      ]
     },
     "execution_count": 86,
     "metadata": {},
     "output_type": "execute_result"
    }
   ],
   "source": [
    "# average metallicity for stars with gas giants\n",
    "df_Large_radii_clear['st_met'].mean()"
   ]
  },
  {
   "cell_type": "code",
   "execution_count": 87,
   "id": "d484bec7-5753-4d83-8d4a-26908cbeff94",
   "metadata": {},
   "outputs": [
    {
     "data": {
      "text/plain": [
       "0.20724533425183891"
      ]
     },
     "execution_count": 87,
     "metadata": {},
     "output_type": "execute_result"
    }
   ],
   "source": [
    "# standard deviation\n",
    "df_Large_radii_clear['st_met'].std()"
   ]
  },
  {
   "cell_type": "code",
   "execution_count": 88,
   "id": "bf231929-daa8-479a-b149-5bf055bf7177",
   "metadata": {},
   "outputs": [
    {
     "data": {
      "text/plain": [
       "-0.018824430078258084"
      ]
     },
     "execution_count": 88,
     "metadata": {},
     "output_type": "execute_result"
    }
   ],
   "source": [
    "# average metallicity for stars with small planets\n",
    "df_Small_radii_clear['st_met'].mean()"
   ]
  },
  {
   "cell_type": "code",
   "execution_count": 89,
   "id": "55b8ea05-58dc-49af-b905-ee4e79576db9",
   "metadata": {},
   "outputs": [
    {
     "data": {
      "text/plain": [
       "0.1602757870427037"
      ]
     },
     "execution_count": 89,
     "metadata": {},
     "output_type": "execute_result"
    }
   ],
   "source": [
    "# standard deviation\n",
    "df_Small_radii_clear['st_met'].std()"
   ]
  },
  {
   "cell_type": "markdown",
   "id": "507fc530-1490-46bd-b33a-5f84ae003429",
   "metadata": {},
   "source": [
    "Hypothesis testing -- calculating p-value"
   ]
  },
  {
   "cell_type": "code",
   "execution_count": 90,
   "id": "27185545-5e1b-422e-94a6-60ab0799f659",
   "metadata": {},
   "outputs": [
    {
     "name": "stdout",
     "output_type": "stream",
     "text": [
      "Test statistic is 13.629\n",
      "p-value for two tailed test is 0.000\n"
     ]
    }
   ],
   "source": [
    "t_value,p_value=stats.ttest_ind(df_Large_radii_clear['st_met'],df_Small_radii_clear['st_met'])\n",
    "\n",
    "print(f'Test statistic is {t_value:.3f}')\n",
    "\n",
    "print(f'p-value for two tailed test is {p_value:.3f}')\n",
    "\n",
    "alpha = 0.05"
   ]
  },
  {
   "cell_type": "markdown",
   "id": "80f7620e-beda-4bfa-8fbb-5cd37677daaf",
   "metadata": {},
   "source": [
    "Obtained p-value indicate that the null hypothesis is false, therefore there is statistically significant difference in the average metallicity for stars hosting gas giants and small exoplanets."
   ]
  },
  {
   "cell_type": "code",
   "execution_count": null,
   "id": "52b64cc0-c8d3-454f-b6cb-6500c234d146",
   "metadata": {},
   "outputs": [],
   "source": []
  }
 ],
 "metadata": {
  "kernelspec": {
   "display_name": "Python 3 (ipykernel)",
   "language": "python",
   "name": "python3"
  },
  "language_info": {
   "codemirror_mode": {
    "name": "ipython",
    "version": 3
   },
   "file_extension": ".py",
   "mimetype": "text/x-python",
   "name": "python",
   "nbconvert_exporter": "python",
   "pygments_lexer": "ipython3",
   "version": "3.9.7"
  }
 },
 "nbformat": 4,
 "nbformat_minor": 5
}
